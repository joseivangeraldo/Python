{
 "cells": [
  {
   "cell_type": "code",
   "execution_count": 7,
   "id": "ce7528ae-91ba-4862-b98c-0daa43c25015",
   "metadata": {},
   "outputs": [],
   "source": [
    "##escopo global e local\n",
    "def funcao1():\n",
    "    print(\"Dentro da função 1 temos >>\", a, b)\n",
    "\n",
    "def funcao2():\n",
    "    a = 100\n",
    "    b = 200\n",
    "    print(\"Dentro da função 2 temos >>\", a, b)\n",
    "\n",
    "a = 10\n",
    "b =20"
   ]
  },
  {
   "cell_type": "code",
   "execution_count": 8,
   "id": "9dc906ca-e5d1-465b-917a-a8b5cfdc93bf",
   "metadata": {},
   "outputs": [
    {
     "name": "stdout",
     "output_type": "stream",
     "text": [
      "Dentro da função 1 temos >> 10 20\n",
      "Dentro da função 2 temos >> 100 200\n"
     ]
    }
   ],
   "source": [
    "funcao1()\n",
    "funcao2()"
   ]
  },
  {
   "cell_type": "code",
   "execution_count": null,
   "id": "3dc1b04f-71a6-407a-8355-c6914c65217e",
   "metadata": {},
   "outputs": [],
   "source": []
  }
 ],
 "metadata": {
  "kernelspec": {
   "display_name": "Python 3 (ipykernel)",
   "language": "python",
   "name": "python3"
  },
  "language_info": {
   "codemirror_mode": {
    "name": "ipython",
    "version": 3
   },
   "file_extension": ".py",
   "mimetype": "text/x-python",
   "name": "python",
   "nbconvert_exporter": "python",
   "pygments_lexer": "ipython3",
   "version": "3.11.4"
  }
 },
 "nbformat": 4,
 "nbformat_minor": 5
}

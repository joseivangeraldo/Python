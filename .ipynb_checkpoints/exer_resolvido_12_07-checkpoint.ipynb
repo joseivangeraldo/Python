{
 "cells": [
  {
   "cell_type": "code",
   "execution_count": 9,
   "id": "f7802d2b-0b5d-4dba-92f7-54568d678690",
   "metadata": {},
   "outputs": [
    {
     "name": "stdin",
     "output_type": "stream",
     "text": [
      "Digite um inteiro:  10001\n"
     ]
    },
    {
     "name": "stdout",
     "output_type": "stream",
     "text": [
      "10001 não é primo\n"
     ]
    }
   ],
   "source": [
    "'''\n",
    "Escreva um programa que verifique se um numero inteiro lido é primo.\n",
    "Lembrando:Um numero primo é divivisivel apenas por 1 ou por ele mesmo.\n",
    "A verificação deve ser feita dentro de uma função.\n",
    "'''\n",
    "def Primo(v):\n",
    "    '''Se v for primo retorna True, se não retorna false'''\n",
    "    if v == 2:\n",
    "        return True\n",
    "    elif v % 2 == 0:\n",
    "        return False\n",
    "    else:\n",
    "        raiz = pow(v, 0.5) #raiz quadrada de v\n",
    "        i = 3\n",
    "        while i <= raiz:\n",
    "            if v % i == 0:\n",
    "                return False\n",
    "            i += 2\n",
    "        return True\n",
    "N = int(input('Digite um inteiro: '))\n",
    "if Primo(N):\n",
    "    print(f'{N} é primo')\n",
    "else:\n",
    "    print(f'{N} não é primo')\n"
   ]
  },
  {
   "cell_type": "code",
   "execution_count": 10,
   "id": "96e9e698-db44-42a6-bdfc-16c2fd091068",
   "metadata": {},
   "outputs": [],
   "source": [
    "def diferenca(A, B):\n",
    "    return A - B"
   ]
  },
  {
   "cell_type": "code",
   "execution_count": 25,
   "id": "5d5d4201-fd53-424a-8180-fc0f956b7d87",
   "metadata": {},
   "outputs": [
    {
     "ename": "SyntaxError",
     "evalue": "positional argument follows keyword argument (661509393.py, line 5)",
     "output_type": "error",
     "traceback": [
      "  \u001b[36mCell\u001b[39m\u001b[36m \u001b[39m\u001b[32mIn[25]\u001b[39m\u001b[32m, line 5\u001b[39m\n\u001b[31m    \u001b[39m\u001b[31mdiferenca(B = Y, X)\u001b[39m\n                      ^\n\u001b[31mSyntaxError\u001b[39m\u001b[31m:\u001b[39m positional argument follows keyword argument\n"
     ]
    }
   ],
   "source": [
    "X = 64 \n",
    "Y = 24\n",
    "#diferenca(X, Y)\n",
    "#diferenca(B = Y, A = X)\n",
    "diferenca(B = Y, X)\n",
    "#diferenca(X, B = Y)"
   ]
  },
  {
   "cell_type": "code",
   "execution_count": 18,
   "id": "074e4d0b-d179-47c5-94f8-c4246eb7e9bb",
   "metadata": {},
   "outputs": [
    {
     "ename": "SyntaxError",
     "evalue": "parameter without a default follows parameter with a default (44456133.py, line 2)",
     "output_type": "error",
     "traceback": [
      "  \u001b[36mCell\u001b[39m\u001b[36m \u001b[39m\u001b[32mIn[18]\u001b[39m\u001b[32m, line 2\u001b[39m\n\u001b[31m    \u001b[39m\u001b[31mdef fcps(en = 20, pa = True, so): pass\u001b[39m\n                                 ^\n\u001b[31mSyntaxError\u001b[39m\u001b[31m:\u001b[39m parameter without a default follows parameter with a default\n"
     ]
    }
   ],
   "source": [
    "def f_cps(en, pa, so): pass\n",
    "def fcps(en = 20, pa = True, so): pass\n",
    "def f_ps(en : 20, pa : True, so): pass\n",
    "def f_cs(en, pa = True, so = 20): pass"
   ]
  },
  {
   "cell_type": "code",
   "execution_count": null,
   "id": "dca8bd4b-8d39-4022-a14c-0b0316b661a5",
   "metadata": {},
   "outputs": [],
   "source": []
  }
 ],
 "metadata": {
  "kernelspec": {
   "display_name": "Python 3 (ipykernel)",
   "language": "python",
   "name": "python3"
  },
  "language_info": {
   "codemirror_mode": {
    "name": "ipython",
    "version": 3
   },
   "file_extension": ".py",
   "mimetype": "text/x-python",
   "name": "python",
   "nbconvert_exporter": "python",
   "pygments_lexer": "ipython3",
   "version": "3.12.1"
  }
 },
 "nbformat": 4,
 "nbformat_minor": 5
}

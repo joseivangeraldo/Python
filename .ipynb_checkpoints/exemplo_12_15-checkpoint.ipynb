{
 "cells": [
  {
   "cell_type": "code",
   "execution_count": 1,
   "id": "52901731-dd75-4893-9e44-498cf789b449",
   "metadata": {},
   "outputs": [
    {
     "name": "stdin",
     "output_type": "stream",
     "text": [
      "Digite um inteiro:  6\n"
     ]
    },
    {
     "name": "stdout",
     "output_type": "stream",
     "text": [
      "O Fatorial de 6 é 720\n"
     ]
    }
   ],
   "source": [
    "def Fatorial(N):# N=4 - N=3 - N=2 \n",
    "    if N <= 1:\n",
    "        return 1\n",
    "    else:\n",
    "        return N * Fatorial(N-1) # preste muita atenção a esta linha\n",
    "        # 4 * fatorial(3)\n",
    "        # 3 * fatorial(2)\n",
    "        # 2 * fatorial(1)\n",
    "\n",
    "Entrada = int(input('Digite um inteiro: '))\n",
    "F = Fatorial(Entrada)\n",
    "print(f'O Fatorial de {Entrada} é {F}') "
   ]
  },
  {
   "cell_type": "code",
   "execution_count": null,
   "id": "56b3863f-7803-4d7b-9cb2-89a1576ee5e7",
   "metadata": {},
   "outputs": [],
   "source": []
  }
 ],
 "metadata": {
  "kernelspec": {
   "display_name": "Python 3 (ipykernel)",
   "language": "python",
   "name": "python3"
  },
  "language_info": {
   "codemirror_mode": {
    "name": "ipython",
    "version": 3
   },
   "file_extension": ".py",
   "mimetype": "text/x-python",
   "name": "python",
   "nbconvert_exporter": "python",
   "pygments_lexer": "ipython3",
   "version": "3.11.4"
  }
 },
 "nbformat": 4,
 "nbformat_minor": 5
}

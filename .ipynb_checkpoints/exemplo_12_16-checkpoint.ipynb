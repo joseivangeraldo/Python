{
 "cells": [
  {
   "cell_type": "code",
   "execution_count": 2,
   "id": "fb795809-7cb3-4a6b-961d-2f78de63cd9a",
   "metadata": {},
   "outputs": [
    {
     "data": {
      "text/plain": [
       "12"
      ]
     },
     "execution_count": 2,
     "metadata": {},
     "output_type": "execute_result"
    }
   ],
   "source": [
    "##FUNÇÃO LAMBDA, quando as funções são muito simples,\n",
    "# e podem serem substituidas por uma função lambda \n",
    "def mais2(a):\n",
    "    return a + 2\n",
    "\n",
    "mais2(10)"
   ]
  },
  {
   "cell_type": "code",
   "execution_count": 3,
   "id": "29d5977b-fa6d-427b-843d-f53cee3d93d8",
   "metadata": {},
   "outputs": [
    {
     "data": {
      "text/plain": [
       "<function __main__.<lambda>(x)>"
      ]
     },
     "execution_count": 3,
     "metadata": {},
     "output_type": "execute_result"
    }
   ],
   "source": [
    "lambda x: x + 2"
   ]
  },
  {
   "cell_type": "code",
   "execution_count": 4,
   "id": "8e9b0372-dd88-48b9-a737-c43edf5b0d62",
   "metadata": {},
   "outputs": [
    {
     "data": {
      "text/plain": [
       "12"
      ]
     },
     "execution_count": 4,
     "metadata": {},
     "output_type": "execute_result"
    }
   ],
   "source": [
    "## Secolocar entre parenteses, e depois entre pareneses,\n",
    "# o argumento que vc coloca para x\n",
    "(lambda x: x + 2)(10)"
   ]
  },
  {
   "cell_type": "code",
   "execution_count": 7,
   "id": "22e4da58-c037-432a-9804-5d298e52a5f7",
   "metadata": {},
   "outputs": [
    {
     "data": {
      "text/plain": [
       "20.0"
      ]
     },
     "execution_count": 7,
     "metadata": {},
     "output_type": "execute_result"
    }
   ],
   "source": [
    "##Com mais argumentos, a formula que queremos,\n",
    "# E depois as entradas que setamos\n",
    "(lambda x, y, z: (x + y)/ z)(350, 50, 20)"
   ]
  },
  {
   "cell_type": "code",
   "execution_count": 10,
   "id": "6f464520-c7fd-4fef-bcda-867094ab78ce",
   "metadata": {},
   "outputs": [
    {
     "data": {
      "text/plain": [
       "'alo Mundo'"
      ]
     },
     "execution_count": 10,
     "metadata": {},
     "output_type": "execute_result"
    }
   ],
   "source": [
    "(lambda s1, s2: s1 + s2)(\"alo\", \" Mundo\")"
   ]
  }
 ],
 "metadata": {
  "kernelspec": {
   "display_name": "Python 3 (ipykernel)",
   "language": "python",
   "name": "python3"
  },
  "language_info": {
   "codemirror_mode": {
    "name": "ipython",
    "version": 3
   },
   "file_extension": ".py",
   "mimetype": "text/x-python",
   "name": "python",
   "nbconvert_exporter": "python",
   "pygments_lexer": "ipython3",
   "version": "3.11.4"
  }
 },
 "nbformat": 4,
 "nbformat_minor": 5
}

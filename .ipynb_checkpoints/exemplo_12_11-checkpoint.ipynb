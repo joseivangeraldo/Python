{
 "cells": [
  {
   "cell_type": "code",
   "execution_count": 1,
   "id": "c01ac842-e14d-4e39-9d90-95a183dfb04c",
   "metadata": {},
   "outputs": [
    {
     "data": {
      "text/plain": [
       "6"
      ]
     },
     "execution_count": 1,
     "metadata": {},
     "output_type": "execute_result"
    }
   ],
   "source": [
    "def Empacotamento(*dados):\n",
    "    return sum(dados)\n",
    "\n",
    "Empacotamento(1, 2, 3)"
   ]
  },
  {
   "cell_type": "code",
   "execution_count": 3,
   "id": "01934a62-ed58-43f8-94da-db4049e64066",
   "metadata": {},
   "outputs": [
    {
     "data": {
      "text/plain": [
       "10"
      ]
     },
     "execution_count": 3,
     "metadata": {},
     "output_type": "execute_result"
    }
   ],
   "source": [
    "Empacotamento(1, 1, 1, 1, 1, 1, 1, 1, 1, 1)"
   ]
  },
  {
   "cell_type": "code",
   "execution_count": 4,
   "id": "2e542fd2-66ee-417f-8d28-fe3342530a17",
   "metadata": {},
   "outputs": [],
   "source": [
    "def Calcula(a, b, c):\n",
    "    return(a + b) / c"
   ]
  },
  {
   "cell_type": "code",
   "execution_count": 7,
   "id": "9d1b4876-57e0-4dd1-aded-2274633c5cd4",
   "metadata": {},
   "outputs": [
    {
     "ename": "TypeError",
     "evalue": "Calcula() missing 2 required positional arguments: 'b' and 'c'",
     "output_type": "error",
     "traceback": [
      "\u001b[0;31m---------------------------------------------------------------------------\u001b[0m",
      "\u001b[0;31mTypeError\u001b[0m                                 Traceback (most recent call last)",
      "Cell \u001b[0;32mIn[7], line 2\u001b[0m\n\u001b[1;32m      1\u001b[0m L1 \u001b[38;5;241m=\u001b[39m [\u001b[38;5;241m12\u001b[39m, \u001b[38;5;241m20\u001b[39m, \u001b[38;5;241m5\u001b[39m]\n\u001b[0;32m----> 2\u001b[0m Calcula(L1)\n",
      "\u001b[0;31mTypeError\u001b[0m: Calcula() missing 2 required positional arguments: 'b' and 'c'"
     ]
    }
   ],
   "source": [
    "L1 = [12, 20, 5]\n",
    "Calcula(L1)"
   ]
  },
  {
   "cell_type": "code",
   "execution_count": 8,
   "id": "ad3874fc-d6df-462e-a7e0-8fd267597151",
   "metadata": {},
   "outputs": [
    {
     "data": {
      "text/plain": [
       "6.4"
      ]
     },
     "execution_count": 8,
     "metadata": {},
     "output_type": "execute_result"
    }
   ],
   "source": [
    "##PARA OCORRER O DESMPACOTAMENTO É PRECISO COLOCAR O * NA FRENTE DO NOME DA LISTA\n",
    "##A lista tem pacote de dados, tem de ocorrer o desempacotamento para ser jogada em funções.\n",
    "Calcula(*L1)"
   ]
  },
  {
   "cell_type": "code",
   "execution_count": null,
   "id": "f87e3c15-dfe1-4dc5-a2b8-ca5414427a74",
   "metadata": {},
   "outputs": [],
   "source": []
  }
 ],
 "metadata": {
  "kernelspec": {
   "display_name": "Python 3 (ipykernel)",
   "language": "python",
   "name": "python3"
  },
  "language_info": {
   "codemirror_mode": {
    "name": "ipython",
    "version": 3
   },
   "file_extension": ".py",
   "mimetype": "text/x-python",
   "name": "python",
   "nbconvert_exporter": "python",
   "pygments_lexer": "ipython3",
   "version": "3.11.4"
  }
 },
 "nbformat": 4,
 "nbformat_minor": 5
}

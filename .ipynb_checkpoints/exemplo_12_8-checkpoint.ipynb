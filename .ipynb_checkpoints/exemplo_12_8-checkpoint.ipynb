{
 "cells": [
  {
   "cell_type": "code",
   "execution_count": 1,
   "id": "70d19a18-84ae-450e-84c9-4ef08f0da137",
   "metadata": {},
   "outputs": [
    {
     "data": {
      "text/plain": [
       "5"
      ]
     },
     "execution_count": 1,
     "metadata": {},
     "output_type": "execute_result"
    }
   ],
   "source": [
    "def Diferenca(A, B):\n",
    "    return A - B\n",
    "\n",
    "X = 12\n",
    "Y = 7\n",
    "Diferenca(X, Y)"
   ]
  },
  {
   "cell_type": "code",
   "execution_count": 2,
   "id": "157132f1-2bf9-4d7b-b00e-7142bf8561bf",
   "metadata": {},
   "outputs": [
    {
     "data": {
      "text/plain": [
       "5"
      ]
     },
     "execution_count": 2,
     "metadata": {},
     "output_type": "execute_result"
    }
   ],
   "source": [
    "Diferenca(B= Y, A = X)"
   ]
  },
  {
   "cell_type": "code",
   "execution_count": 3,
   "id": "b1043b84-d94f-4c5c-be09-d224df707aae",
   "metadata": {},
   "outputs": [
    {
     "data": {
      "text/plain": [
       "-5"
      ]
     },
     "execution_count": 3,
     "metadata": {},
     "output_type": "execute_result"
    }
   ],
   "source": [
    "Diferenca(B= X, A = Y)"
   ]
  },
  {
   "cell_type": "code",
   "execution_count": null,
   "id": "7c2f62c5-5b70-4c3a-9e3c-7e840159a922",
   "metadata": {},
   "outputs": [],
   "source": []
  }
 ],
 "metadata": {
  "kernelspec": {
   "display_name": "Python 3 (ipykernel)",
   "language": "python",
   "name": "python3"
  },
  "language_info": {
   "codemirror_mode": {
    "name": "ipython",
    "version": 3
   },
   "file_extension": ".py",
   "mimetype": "text/x-python",
   "name": "python",
   "nbconvert_exporter": "python",
   "pygments_lexer": "ipython3",
   "version": "3.12.7"
  }
 },
 "nbformat": 4,
 "nbformat_minor": 5
}

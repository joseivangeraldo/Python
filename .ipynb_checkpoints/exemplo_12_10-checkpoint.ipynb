{
 "cells": [
  {
   "cell_type": "code",
   "execution_count": 4,
   "id": "a568827b-7f0f-4158-bba5-7cb8c920d427",
   "metadata": {},
   "outputs": [
    {
     "data": {
      "text/plain": [
       "'maca, Cachorro, vaca'"
      ]
     },
     "execution_count": 4,
     "metadata": {},
     "output_type": "execute_result"
    }
   ],
   "source": [
    "def MontaSaida(*valores, separador =', '):\n",
    "    saida = separador.join(valores)\n",
    "    return saida\n",
    "\n",
    "###aqui seria um parametro empacotado\n",
    "MontaSaida('maca', 'Cachorro', 'vaca')"
   ]
  },
  {
   "cell_type": "code",
   "execution_count": 5,
   "id": "8d56d5cf-47f6-40ce-bef2-e8b83741a6c2",
   "metadata": {},
   "outputs": [
    {
     "data": {
      "text/plain": [
       "'maca...Cachorro...vaca'"
      ]
     },
     "execution_count": 5,
     "metadata": {},
     "output_type": "execute_result"
    }
   ],
   "source": [
    "MontaSaida('maca', 'Cachorro', 'vaca', separador = '...')"
   ]
  },
  {
   "cell_type": "code",
   "execution_count": 6,
   "id": "3ef98dc7-5a20-4cf1-917f-5c489bb1f326",
   "metadata": {},
   "outputs": [
    {
     "data": {
      "text/plain": [
       "'maca-.-Cachorro-.-vaca'"
      ]
     },
     "execution_count": 6,
     "metadata": {},
     "output_type": "execute_result"
    }
   ],
   "source": [
    "MontaSaida('maca', 'Cachorro', 'vaca', separador = '-.-')"
   ]
  }
 ],
 "metadata": {
  "kernelspec": {
   "display_name": "Python 3 (ipykernel)",
   "language": "python",
   "name": "python3"
  },
  "language_info": {
   "codemirror_mode": {
    "name": "ipython",
    "version": 3
   },
   "file_extension": ".py",
   "mimetype": "text/x-python",
   "name": "python",
   "nbconvert_exporter": "python",
   "pygments_lexer": "ipython3",
   "version": "3.12.7"
  }
 },
 "nbformat": 4,
 "nbformat_minor": 5
}

{
 "cells": [
  {
   "cell_type": "code",
   "execution_count": 1,
   "id": "892f1240-f015-4327-85ee-ec5df4008ce8",
   "metadata": {},
   "outputs": [
    {
     "data": {
      "text/plain": [
       "[62, -34, 52, 30, -70, -18, 40]"
      ]
     },
     "execution_count": 1,
     "metadata": {},
     "output_type": "execute_result"
    }
   ],
   "source": [
    "Lista = [31, -17,26, 15, -35, -9, 20]\n",
    "modo1 = []\n",
    "for x in Lista:\n",
    "    modo1.append(x * 2)\n",
    "\n",
    "modo1"
   ]
  },
  {
   "cell_type": "code",
   "execution_count": 2,
   "id": "49b2cc1f-94ea-4188-bea7-01423551c853",
   "metadata": {},
   "outputs": [
    {
     "data": {
      "text/plain": [
       "[62, -34, 52, 30, -70, -18, 40]"
      ]
     },
     "execution_count": 2,
     "metadata": {},
     "output_type": "execute_result"
    }
   ],
   "source": [
    "## usando list comprehension fica assim\n",
    "modo2 = [x * 2 for x in Lista]\n",
    "modo2"
   ]
  },
  {
   "cell_type": "code",
   "execution_count": null,
   "id": "55bce9a0-c4a4-482c-833e-ea3b97652301",
   "metadata": {},
   "outputs": [],
   "source": []
  }
 ],
 "metadata": {
  "kernelspec": {
   "display_name": "Python 3 (ipykernel)",
   "language": "python",
   "name": "python3"
  },
  "language_info": {
   "codemirror_mode": {
    "name": "ipython",
    "version": 3
   },
   "file_extension": ".py",
   "mimetype": "text/x-python",
   "name": "python",
   "nbconvert_exporter": "python",
   "pygments_lexer": "ipython3",
   "version": "3.12.1"
  }
 },
 "nbformat": 4,
 "nbformat_minor": 5
}

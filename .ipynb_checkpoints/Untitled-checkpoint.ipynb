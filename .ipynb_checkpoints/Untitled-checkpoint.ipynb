{
 "cells": [
  {
   "cell_type": "code",
   "execution_count": 12,
   "id": "0943e119-6d53-4c17-be92-10230c39b5f0",
   "metadata": {},
   "outputs": [
    {
     "name": "stdin",
     "output_type": "stream",
     "text": [
      "Digite 4 notas (P1 P2 P3 NT):  7.5 6.2 6.4 9.7\n"
     ]
    },
    {
     "name": "stdout",
     "output_type": "stream",
     "text": [
      "P1 = 7.5; P2 = 6.2; P3 = 6.4; NT = 9.7; Média = 7.0; Situação = APROVADO\n"
     ]
    }
   ],
   "source": [
    "'''\n",
    "Recebe o String pNotas, faza separação dos valores, calcula e retorna a média\n",
    "'''\n",
    "def CalculaMedia(pNotas):\n",
    "    pNotas = pNotas.split() #pnotas que era string agora é uma lista\n",
    "    for i in range(len(pNotas)):\n",
    "        pNotas[i] = float(pNotas[i])\n",
    "    media = ((pNotas[0] + pNotas[1] + pNotas[2]) * 0.3 + pNotas[3] * 0.1)\n",
    "    situacao = 'APROVADO' if media >= 7 else 'REPROVADO'\n",
    "    pNotas.append(media)\n",
    "    pNotas.append(situacao)\n",
    "    return pNotas\n",
    "\n",
    "notas = input('Digite 4 notas (P1 P2 P3 NT): ')\n",
    "resultado = CalculaMedia(notas)\n",
    "print(f'P1 = {resultado[0]:.1f}; ', end='')\n",
    "print(f'P2 = {resultado[1]:.1f}; ', end='')\n",
    "print(f'P3 = {resultado[2]:.1f}; ', end='')\n",
    "print(f'NT = {resultado[3]:.1f}; ', end='')\n",
    "print(f'Média = {resultado[4]:.1f}; ', end='')\n",
    "print(f'Situação = {resultado[5]}')\n",
    "\n",
    "#7.5 6.2 6.4 9.8"
   ]
  },
  {
   "cell_type": "code",
   "execution_count": null,
   "id": "77010f6c-21b5-4a02-a298-8837ff2348d9",
   "metadata": {},
   "outputs": [],
   "source": []
  }
 ],
 "metadata": {
  "kernelspec": {
   "display_name": "Python 3 (ipykernel)",
   "language": "python",
   "name": "python3"
  },
  "language_info": {
   "codemirror_mode": {
    "name": "ipython",
    "version": 3
   },
   "file_extension": ".py",
   "mimetype": "text/x-python",
   "name": "python",
   "nbconvert_exporter": "python",
   "pygments_lexer": "ipython3",
   "version": "3.12.1"
  }
 },
 "nbformat": 4,
 "nbformat_minor": 5
}

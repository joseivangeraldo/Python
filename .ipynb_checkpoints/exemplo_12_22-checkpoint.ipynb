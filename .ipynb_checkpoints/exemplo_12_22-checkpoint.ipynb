{
 "cells": [
  {
   "cell_type": "code",
   "execution_count": 1,
   "id": "6cdb4219-6f92-4622-be0a-58af2e49ff32",
   "metadata": {},
   "outputs": [
    {
     "data": {
      "text/plain": [
       "['121', '152', '175', '189']"
      ]
     },
     "execution_count": 1,
     "metadata": {},
     "output_type": "execute_result"
    }
   ],
   "source": [
    "##Outros exmplos de fução lambda, organizando um dicionario\n",
    "##uso cordenado da fução lambda , com o sorted\n",
    "prods = {'121': 23.90, '189': 14.33, '152': 36.95, '175': 19.35}\n",
    "\n",
    "#ordenação por chave: usando a função sorted()\n",
    "sorted(prods) ##retorna uma lista chaves ordenadas\n"
   ]
  },
  {
   "cell_type": "code",
   "execution_count": 3,
   "id": "b9722c47-5f26-4650-889d-efc2ad226ef5",
   "metadata": {},
   "outputs": [
    {
     "data": {
      "text/plain": [
       "[('121', 23.9), ('152', 36.95), ('175', 19.35), ('189', 14.33)]"
      ]
     },
     "execution_count": 3,
     "metadata": {},
     "output_type": "execute_result"
    }
   ],
   "source": [
    "###usando items, retorna uma chave de tuplas ordenado por chave.\n",
    "#3uma tupla para cada chave valor\n",
    "sorted(prods.items())"
   ]
  },
  {
   "cell_type": "code",
   "execution_count": 5,
   "id": "05f982ad-ec51-429c-82c8-80ce782cd27e",
   "metadata": {},
   "outputs": [
    {
     "name": "stdout",
     "output_type": "stream",
     "text": [
      "dict_items([('121', 23.9), ('189', 14.33), ('152', 36.95), ('175', 19.35)])\n"
     ]
    }
   ],
   "source": [
    "##Quando usa o items na verdade ele retorna uma lista \n",
    "# aonde cada item desta lista é uma tupla\n",
    "print(prods.items())\n"
   ]
  },
  {
   "cell_type": "code",
   "execution_count": 7,
   "id": "deba9921-d0e1-4976-a53f-127c2a3755e3",
   "metadata": {},
   "outputs": [
    {
     "data": {
      "text/plain": [
       "[('189', 14.33), ('175', 19.35), ('121', 23.9), ('152', 36.95)]"
      ]
     },
     "execution_count": 7,
     "metadata": {},
     "output_type": "execute_result"
    }
   ],
   "source": [
    "##se for ordenar por valor vai ter usar uma função lambda\n",
    "sorted(prods.items(), key=lambda x: x[1]) # o argumentoé 'x'  e x[1] ó item que vai ser organizado"
   ]
  },
  {
   "cell_type": "code",
   "execution_count": null,
   "id": "940949f1-4b09-418c-9f67-bae2fb298a48",
   "metadata": {},
   "outputs": [],
   "source": []
  }
 ],
 "metadata": {
  "kernelspec": {
   "display_name": "Python 3 (ipykernel)",
   "language": "python",
   "name": "python3"
  },
  "language_info": {
   "codemirror_mode": {
    "name": "ipython",
    "version": 3
   },
   "file_extension": ".py",
   "mimetype": "text/x-python",
   "name": "python",
   "nbconvert_exporter": "python",
   "pygments_lexer": "ipython3",
   "version": "3.11.4"
  }
 },
 "nbformat": 4,
 "nbformat_minor": 5
}

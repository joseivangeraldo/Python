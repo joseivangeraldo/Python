{
 "cells": [
  {
   "cell_type": "code",
   "execution_count": 6,
   "id": "a8b1c3f6-70dc-4d35-9fa4-d82c3d227976",
   "metadata": {},
   "outputs": [
    {
     "name": "stdin",
     "output_type": "stream",
     "text": [
      "Digite o valor Minimo:  100\n",
      "Digite o valor Maximo:  200\n",
      "Digite um valor Real:  156\n"
     ]
    },
    {
     "name": "stdout",
     "output_type": "stream",
     "text": [
      "O valor Lido é 156.0\n"
     ]
    },
    {
     "name": "stdin",
     "output_type": "stream",
     "text": [
      "\n",
      "Quer digitar outro valor (s/n)? s\n",
      "Digite um valor Real:  99.999\n"
     ]
    },
    {
     "name": "stdout",
     "output_type": "stream",
     "text": [
      "O valor de 99.999 está fora dos limites [100.0, 200.0]\n"
     ]
    },
    {
     "name": "stdin",
     "output_type": "stream",
     "text": [
      "Digite um valor Real:  99.99999999999999999\n"
     ]
    },
    {
     "name": "stdout",
     "output_type": "stream",
     "text": [
      "O valor Lido é 100.0\n"
     ]
    },
    {
     "name": "stdin",
     "output_type": "stream",
     "text": [
      "\n",
      "Quer digitar outro valor (s/n)? S\n",
      "Digite um valor Real:  200\n"
     ]
    },
    {
     "name": "stdout",
     "output_type": "stream",
     "text": [
      "O valor Lido é 200.0\n"
     ]
    },
    {
     "name": "stdin",
     "output_type": "stream",
     "text": [
      "\n",
      "Quer digitar outro valor (s/n)? s\n",
      "Digite um valor Real:  201\n"
     ]
    },
    {
     "name": "stdout",
     "output_type": "stream",
     "text": [
      "O valor de 201.0 está fora dos limites [100.0, 200.0]\n"
     ]
    },
    {
     "name": "stdin",
     "output_type": "stream",
     "text": [
      "Digite um valor Real:  199.999\n"
     ]
    },
    {
     "name": "stdout",
     "output_type": "stream",
     "text": [
      "O valor Lido é 199.999\n"
     ]
    },
    {
     "name": "stdin",
     "output_type": "stream",
     "text": [
      "\n",
      "Quer digitar outro valor (s/n)? s\n",
      "Digite um valor Real:  200.001\n"
     ]
    },
    {
     "name": "stdout",
     "output_type": "stream",
     "text": [
      "O valor de 200.001 está fora dos limites [100.0, 200.0]\n"
     ]
    },
    {
     "name": "stdin",
     "output_type": "stream",
     "text": [
      "Digite um valor Real:  200.000001\n"
     ]
    },
    {
     "name": "stdout",
     "output_type": "stream",
     "text": [
      "O valor de 200.000001 está fora dos limites [100.0, 200.0]\n"
     ]
    },
    {
     "name": "stdin",
     "output_type": "stream",
     "text": [
      "Digite um valor Real:  200.0000000001\n"
     ]
    },
    {
     "name": "stdout",
     "output_type": "stream",
     "text": [
      "O valor de 200.0000000001 está fora dos limites [100.0, 200.0]\n"
     ]
    },
    {
     "name": "stdin",
     "output_type": "stream",
     "text": [
      "Digite um valor Real:  200.00000000000001\n"
     ]
    },
    {
     "name": "stdout",
     "output_type": "stream",
     "text": [
      "O valor Lido é 200.0\n"
     ]
    },
    {
     "name": "stdin",
     "output_type": "stream",
     "text": [
      "\n",
      "Quer digitar outro valor (s/n)? 200.0000000001\n"
     ]
    },
    {
     "name": "stdout",
     "output_type": "stream",
     "text": [
      "Fim do Programa\n"
     ]
    }
   ],
   "source": [
    "'''\n",
    "Escreva uma função que receba como parametro de entrada dois numeros reais Min e Max\n",
    "Esse valor deve ler do teclado um numero real e retorna-lo caso esteja dentro do \n",
    "intervalo fechado [min, max]. Caso contrario a função deve exibir uma mensagem de erro\n",
    "e ler um novo valor.\n",
    "'''\n",
    "def LeReal(pLMin, pLMax):\n",
    "    a = float(input('Digite um valor Real: '))\n",
    "    while a < pLMin or a > pLMax:\n",
    "        print(f'O valor de {a} está fora dos limites [{pLMin}, {pLMax}]')\n",
    "        a = float(input('Digite um valor Real: '))\n",
    "    return a\n",
    "\n",
    "LMin = float(input('Digite o valor Minimo: '))\n",
    "LMax = float(input('Digite o valor Maximo: '))\n",
    "\n",
    "controle = 's'\n",
    "while controle == 's' or controle == 'S':\n",
    "    valor = LeReal(LMin, LMax)\n",
    "    print(f'O valor Lido é {valor}')\n",
    "    controle = input('\\nQuer digitar outro valor (s/n)?')\n",
    "\n",
    "print('Fim do Programa')\n",
    "    "
   ]
  },
  {
   "cell_type": "code",
   "execution_count": null,
   "id": "76af080e-e663-4642-9c67-b13dfb772bff",
   "metadata": {},
   "outputs": [],
   "source": []
  }
 ],
 "metadata": {
  "kernelspec": {
   "display_name": "Python 3 (ipykernel)",
   "language": "python",
   "name": "python3"
  },
  "language_info": {
   "codemirror_mode": {
    "name": "ipython",
    "version": 3
   },
   "file_extension": ".py",
   "mimetype": "text/x-python",
   "name": "python",
   "nbconvert_exporter": "python",
   "pygments_lexer": "ipython3",
   "version": "3.12.1"
  }
 },
 "nbformat": 4,
 "nbformat_minor": 5
}

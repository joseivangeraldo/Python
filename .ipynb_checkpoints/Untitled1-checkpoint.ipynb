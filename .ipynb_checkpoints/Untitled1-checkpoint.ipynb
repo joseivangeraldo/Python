{
 "cells": [
  {
   "cell_type": "code",
   "execution_count": null,
   "id": "52901731-dd75-4893-9e44-498cf789b449",
   "metadata": {},
   "outputs": [],
   "source": [
    "def Fatorial(N):\n",
    "    if N <= 1:\n",
    "        return 1\n",
    "    else:\n",
    "        return N * Fatorial(N-1) # preste muita atenção a esta linha\n",
    "\n",
    "Entrada = int(input('Digite um inteiro: '))\n",
    "F = Fatorial(Entrada)\n",
    "print(f'O Fatorial de  "
   ]
  }
 ],
 "metadata": {
  "kernelspec": {
   "display_name": "Python 3 (ipykernel)",
   "language": "python",
   "name": "python3"
  },
  "language_info": {
   "codemirror_mode": {
    "name": "ipython",
    "version": 3
   },
   "file_extension": ".py",
   "mimetype": "text/x-python",
   "name": "python",
   "nbconvert_exporter": "python",
   "pygments_lexer": "ipython3",
   "version": "3.11.4"
  }
 },
 "nbformat": 4,
 "nbformat_minor": 5
}

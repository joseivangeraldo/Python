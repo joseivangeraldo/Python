{
 "cells": [
  {
   "cell_type": "code",
   "execution_count": 2,
   "id": "01cf1cc5-b1ae-4051-931f-c3191b44746f",
   "metadata": {},
   "outputs": [
    {
     "name": "stdin",
     "output_type": "stream",
     "text": [
      "Digite um inteiro:  45\n"
     ]
    },
    {
     "data": {
      "text/plain": [
       "'IMPAR'"
      ]
     },
     "execution_count": 2,
     "metadata": {},
     "output_type": "execute_result"
    }
   ],
   "source": [
    "'''Escreva uma função que receba um numero inteiro como parametro de entrada,\n",
    " e retorna o texto \"PAR\" ou \"IMPAR\", Usea em um programa principal'''\n",
    "\n",
    "def ParImpar(num):\n",
    "    if num%2 == 0:\n",
    "        return \"PAR\"\n",
    "    else:\n",
    "        return \"IMPAR\"\n",
    "num = int(input('Digite um inteiro: '))\n",
    "ParImpar(num)\n",
    "    "
   ]
  },
  {
   "cell_type": "code",
   "execution_count": 5,
   "id": "31e24fa4-7772-49d6-947b-a75615d34c02",
   "metadata": {},
   "outputs": [
    {
     "name": "stdin",
     "output_type": "stream",
     "text": [
      "Digite um inteiro:  67\n"
     ]
    },
    {
     "data": {
      "text/plain": [
       "'IMPAR'"
      ]
     },
     "execution_count": 5,
     "metadata": {},
     "output_type": "execute_result"
    }
   ],
   "source": [
    "def Paridade(a):\n",
    "    'PAR' if a % 2 == 0 else 'IMPAR'\n",
    "\n",
    "num = int(input('Digite um inteiro: '))\n",
    "ParImpar(num)"
   ]
  },
  {
   "cell_type": "code",
   "execution_count": null,
   "id": "5952f826-169f-496a-88b6-fe42dd05fb47",
   "metadata": {},
   "outputs": [],
   "source": []
  }
 ],
 "metadata": {
  "kernelspec": {
   "display_name": "Python 3 (ipykernel)",
   "language": "python",
   "name": "python3"
  },
  "language_info": {
   "codemirror_mode": {
    "name": "ipython",
    "version": 3
   },
   "file_extension": ".py",
   "mimetype": "text/x-python",
   "name": "python",
   "nbconvert_exporter": "python",
   "pygments_lexer": "ipython3",
   "version": "3.12.1"
  }
 },
 "nbformat": 4,
 "nbformat_minor": 5
}

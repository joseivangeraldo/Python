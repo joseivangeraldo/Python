{
  "nbformat": 4,
  "nbformat_minor": 0,
  "metadata": {
    "colab": {
      "provenance": []
    },
    "kernelspec": {
      "name": "python3",
      "display_name": "Python 3"
    },
    "language_info": {
      "name": "python"
    }
  },
  "cells": [
    {
      "cell_type": "code",
      "source": [
        "lista=[1,2,3,4,4,5,5]"
      ],
      "metadata": {
        "id": "r2UJ5f7hybY8"
      },
      "execution_count": null,
      "outputs": []
    },
    {
      "cell_type": "code",
      "source": [
        "tupla= (1,2,3,4,4,5,5)"
      ],
      "metadata": {
        "id": "ezBzeD0Yyxzf"
      },
      "execution_count": null,
      "outputs": []
    },
    {
      "cell_type": "code",
      "source": [
        "objeto={12,3,54,6}"
      ],
      "metadata": {
        "id": "uG4UyjnO0s6Q"
      },
      "execution_count": null,
      "outputs": []
    },
    {
      "cell_type": "code",
      "source": [
        "type(tupla)"
      ],
      "metadata": {
        "colab": {
          "base_uri": "https://localhost:8080/"
        },
        "id": "hDbqCRqly3re",
        "outputId": "990f19ef-fbd6-4955-939d-7839b9ef1888"
      },
      "execution_count": null,
      "outputs": [
        {
          "output_type": "execute_result",
          "data": {
            "text/plain": [
              "tuple"
            ]
          },
          "metadata": {},
          "execution_count": 10
        }
      ]
    },
    {
      "cell_type": "code",
      "source": [
        "print(tupla)"
      ],
      "metadata": {
        "colab": {
          "base_uri": "https://localhost:8080/"
        },
        "id": "zbZd7FAy0OOc",
        "outputId": "ddc37e1f-b26c-4315-fc62-0f8efc405ebf"
      },
      "execution_count": null,
      "outputs": [
        {
          "output_type": "stream",
          "name": "stdout",
          "text": [
            "(1, 2, 3, 4, 5)\n"
          ]
        }
      ]
    },
    {
      "cell_type": "code",
      "source": [
        "type(lista)"
      ],
      "metadata": {
        "colab": {
          "base_uri": "https://localhost:8080/"
        },
        "id": "V9r9yXTWylqu",
        "outputId": "4a49d382-7a80-4e6e-efd6-cc45c8e02bea"
      },
      "execution_count": null,
      "outputs": [
        {
          "output_type": "execute_result",
          "data": {
            "text/plain": [
              "list"
            ]
          },
          "metadata": {},
          "execution_count": 7
        }
      ]
    },
    {
      "cell_type": "code",
      "source": [
        "type(objeto)"
      ],
      "metadata": {
        "colab": {
          "base_uri": "https://localhost:8080/"
        },
        "id": "AA2zTw-R3FeV",
        "outputId": "64ecbfbe-bdb4-46bb-fc58-9c0cbe479a34"
      },
      "execution_count": null,
      "outputs": [
        {
          "output_type": "execute_result",
          "data": {
            "text/plain": [
              "set"
            ]
          },
          "metadata": {},
          "execution_count": 19
        }
      ]
    },
    {
      "cell_type": "code",
      "source": [
        "print(lista)"
      ],
      "metadata": {
        "colab": {
          "base_uri": "https://localhost:8080/"
        },
        "id": "0UNZ5X5Q0brG",
        "outputId": "24b7a549-bab3-4885-fed8-b8fa66cd21f1"
      },
      "execution_count": null,
      "outputs": [
        {
          "output_type": "stream",
          "name": "stdout",
          "text": [
            "[1, 2, 3, 4, 4, 5, 5]\n"
          ]
        }
      ]
    },
    {
      "cell_type": "markdown",
      "source": [
        "***CAPITULO 10***  DICIONARIOS\n",
        "\n",
        "> Adicionar aspas\n",
        "\n"
      ],
      "metadata": {
        "id": "RFnRzMh5CFhu"
      }
    },
    {
      "cell_type": "code",
      "source": [
        "UF = {'SP': 'São Paulo', 'RJ': 'Rio  Janeiro', 'MG': 'Minas Gerais'}"
      ],
      "metadata": {
        "id": "pF6xB3nmCKWF"
      },
      "execution_count": null,
      "outputs": []
    },
    {
      "cell_type": "code",
      "source": [
        "type(UF)"
      ],
      "metadata": {
        "colab": {
          "base_uri": "https://localhost:8080/"
        },
        "id": "9JlfPAGdDNhB",
        "outputId": "f60ba878-eafd-4d9c-acea-a6665475a1cb"
      },
      "execution_count": null,
      "outputs": [
        {
          "output_type": "execute_result",
          "data": {
            "text/plain": [
              "dict"
            ]
          },
          "metadata": {},
          "execution_count": 2
        }
      ]
    },
    {
      "cell_type": "code",
      "source": [
        "print(UF)"
      ],
      "metadata": {
        "colab": {
          "base_uri": "https://localhost:8080/"
        },
        "id": "wBQuUHU1DXrT",
        "outputId": "22512639-8a1c-45a1-8e68-629c9e771f77"
      },
      "execution_count": null,
      "outputs": [
        {
          "output_type": "stream",
          "name": "stdout",
          "text": [
            "{'SP': 'São Paulo', 'RJ': 'Rio  Janeiro', 'MG': 'Minas Gerais'}\n"
          ]
        }
      ]
    },
    {
      "cell_type": "markdown",
      "source": [
        "INCLUSÃO DE ELEMENTOS"
      ],
      "metadata": {
        "id": "oq3kHRPxDsXo"
      }
    },
    {
      "cell_type": "code",
      "source": [
        "UF = {}"
      ],
      "metadata": {
        "id": "tA2qh2QpDxi3"
      },
      "execution_count": null,
      "outputs": []
    },
    {
      "cell_type": "code",
      "source": [
        "print(UF)"
      ],
      "metadata": {
        "colab": {
          "base_uri": "https://localhost:8080/"
        },
        "id": "9zG9UQv8HtdW",
        "outputId": "ed7be68c-47e8-4bd2-c4b1-8aa0129b43b0"
      },
      "execution_count": null,
      "outputs": [
        {
          "output_type": "stream",
          "name": "stdout",
          "text": [
            "{}\n"
          ]
        }
      ]
    },
    {
      "cell_type": "code",
      "source": [
        "type(UF)"
      ],
      "metadata": {
        "id": "lqj4INgND-Rq",
        "outputId": "a5e4fd31-a6dd-4356-9ebb-fad0006a063c",
        "colab": {
          "base_uri": "https://localhost:8080/"
        }
      },
      "execution_count": null,
      "outputs": [
        {
          "output_type": "execute_result",
          "data": {
            "text/plain": [
              "dict"
            ]
          },
          "metadata": {},
          "execution_count": 5
        }
      ]
    },
    {
      "cell_type": "code",
      "source": [
        "UF['SP'] = 'São Paulo'"
      ],
      "metadata": {
        "id": "a4YLX5N3Hzmf"
      },
      "execution_count": null,
      "outputs": []
    },
    {
      "cell_type": "code",
      "source": [
        "print(UF)"
      ],
      "metadata": {
        "colab": {
          "base_uri": "https://localhost:8080/"
        },
        "id": "am-M8CKAING3",
        "outputId": "4efb6c35-25bb-4945-f6cf-b130a7db47a7"
      },
      "execution_count": null,
      "outputs": [
        {
          "output_type": "stream",
          "name": "stdout",
          "text": [
            "{'SP': 'São Paulo'}\n"
          ]
        }
      ]
    },
    {
      "cell_type": "code",
      "source": [
        "UF['RJ'] = 'Rio de Janeiro'\n",
        "UF['MG'] = 'Minas Gerais'"
      ],
      "metadata": {
        "id": "zQ04ZnHQIWHY"
      },
      "execution_count": null,
      "outputs": []
    },
    {
      "cell_type": "code",
      "source": [
        "print(UF)"
      ],
      "metadata": {
        "colab": {
          "base_uri": "https://localhost:8080/"
        },
        "id": "u0Q_tjS0IljR",
        "outputId": "55304476-a1ca-431c-b4ae-3be1d876fa23"
      },
      "execution_count": null,
      "outputs": [
        {
          "output_type": "stream",
          "name": "stdout",
          "text": [
            "{'SP': 'São Paulo', 'RJ': 'Rio de Janeiro', 'MG': 'Minas Gerais'}\n"
          ]
        }
      ]
    },
    {
      "cell_type": "markdown",
      "source": [
        "ALTERANDO VALORES DE DICIONARIOS"
      ],
      "metadata": {
        "id": "lHvFN-hvJDrY"
      }
    },
    {
      "cell_type": "code",
      "source": [
        "D = {}\n"
      ],
      "metadata": {
        "id": "Au0e9aK9JI-P"
      },
      "execution_count": null,
      "outputs": []
    },
    {
      "cell_type": "code",
      "source": [
        "D['a'] = 120"
      ],
      "metadata": {
        "id": "6K1fgmyjJRJB"
      },
      "execution_count": null,
      "outputs": []
    },
    {
      "cell_type": "code",
      "source": [
        "print(D)"
      ],
      "metadata": {
        "colab": {
          "base_uri": "https://localhost:8080/"
        },
        "id": "cux4GsgeJXSo",
        "outputId": "2bd333af-85c7-49b1-9b63-92abde2ce76b"
      },
      "execution_count": null,
      "outputs": [
        {
          "output_type": "stream",
          "name": "stdout",
          "text": [
            "{'a': 120}\n"
          ]
        }
      ]
    },
    {
      "cell_type": "code",
      "source": [
        "D['a'] = 250"
      ],
      "metadata": {
        "id": "y1DWGc-TJby6"
      },
      "execution_count": null,
      "outputs": []
    },
    {
      "cell_type": "code",
      "source": [
        "print(D)"
      ],
      "metadata": {
        "colab": {
          "base_uri": "https://localhost:8080/"
        },
        "id": "m94mhAoNJgHR",
        "outputId": "91ee7e90-64a3-4845-d707-40c72a8b9453"
      },
      "execution_count": null,
      "outputs": [
        {
          "output_type": "stream",
          "name": "stdout",
          "text": [
            "{'a': 250}\n"
          ]
        }
      ]
    },
    {
      "cell_type": "code",
      "source": [
        "D['b'] = 521"
      ],
      "metadata": {
        "id": "IIHcclbuJrlB"
      },
      "execution_count": null,
      "outputs": []
    },
    {
      "cell_type": "code",
      "source": [
        "print(D)"
      ],
      "metadata": {
        "colab": {
          "base_uri": "https://localhost:8080/"
        },
        "id": "nSI3zjEoJx5a",
        "outputId": "b82e5604-690d-481a-cc5a-96200c416634"
      },
      "execution_count": null,
      "outputs": [
        {
          "output_type": "stream",
          "name": "stdout",
          "text": [
            "{'a': 250, 'b': 521}\n"
          ]
        }
      ]
    },
    {
      "cell_type": "code",
      "source": [
        "x = D['a'] + D['b']"
      ],
      "metadata": {
        "id": "d2-GN7WOJ1RC"
      },
      "execution_count": null,
      "outputs": []
    },
    {
      "cell_type": "code",
      "source": [
        "print(x)"
      ],
      "metadata": {
        "colab": {
          "base_uri": "https://localhost:8080/"
        },
        "id": "9vSn6pmkJ-Kh",
        "outputId": "9cca03c8-183a-4163-ce5c-9de8fcd3e1b4"
      },
      "execution_count": null,
      "outputs": [
        {
          "output_type": "stream",
          "name": "stdout",
          "text": [
            "771\n"
          ]
        }
      ]
    },
    {
      "cell_type": "markdown",
      "source": [
        "CRIANDO OUTRO DICIONARIO OUTRAS CLASSES"
      ],
      "metadata": {
        "id": "UFI6_bG2K-Gj"
      }
    },
    {
      "cell_type": "code",
      "source": [
        "M ={}\n"
      ],
      "metadata": {
        "id": "W_oPnfDsLCRr"
      },
      "execution_count": null,
      "outputs": []
    },
    {
      "cell_type": "code",
      "source": [
        "type(M)"
      ],
      "metadata": {
        "colab": {
          "base_uri": "https://localhost:8080/"
        },
        "id": "cXYvmZAXLHD8",
        "outputId": "615c9f73-dd92-4c64-e141-f667b92b1aa1"
      },
      "execution_count": null,
      "outputs": [
        {
          "output_type": "execute_result",
          "data": {
            "text/plain": [
              "dict"
            ]
          },
          "metadata": {},
          "execution_count": 27
        }
      ]
    },
    {
      "cell_type": "code",
      "source": [
        "M[110] = 45.6"
      ],
      "metadata": {
        "id": "8FpcWU7mLPxq"
      },
      "execution_count": null,
      "outputs": []
    },
    {
      "cell_type": "code",
      "source": [
        "print(M)"
      ],
      "metadata": {
        "colab": {
          "base_uri": "https://localhost:8080/"
        },
        "id": "BB2-wfWSLVPs",
        "outputId": "e979c1a2-7e7c-4b1b-a9d1-bb5c39a675b0"
      },
      "execution_count": null,
      "outputs": [
        {
          "output_type": "stream",
          "name": "stdout",
          "text": [
            "{110: 45.6}\n"
          ]
        }
      ]
    },
    {
      "cell_type": "code",
      "source": [
        "M[9.2] = 'xpto'"
      ],
      "metadata": {
        "id": "-LhL2x8qLdez"
      },
      "execution_count": null,
      "outputs": []
    },
    {
      "cell_type": "code",
      "source": [
        "print(M)"
      ],
      "metadata": {
        "colab": {
          "base_uri": "https://localhost:8080/"
        },
        "id": "mJH_EkezLipM",
        "outputId": "e3b54386-e155-4651-ced2-f644d62f56fd"
      },
      "execution_count": null,
      "outputs": [
        {
          "output_type": "stream",
          "name": "stdout",
          "text": [
            "{110: 45.6, 9.2: 'xpto'}\n"
          ]
        }
      ]
    },
    {
      "cell_type": "code",
      "source": [
        "M[ (1, 0, 5)] = 281.9"
      ],
      "metadata": {
        "id": "uliC1duELqvc"
      },
      "execution_count": null,
      "outputs": []
    },
    {
      "cell_type": "markdown",
      "source": [
        "A TUPLA PODE SER CHAVE\n",
        "A LISTA NÃO PODE SER CHAVE PORQUE É MULTAVEL.\n",
        "TODOS OS OBJETOS DE CLASSES IMUTAVEIS PODEM SEREM USADOS COMO CHAVES EM DICIONARIOS"
      ],
      "metadata": {
        "id": "4kBP7VfhQAVR"
      }
    },
    {
      "cell_type": "code",
      "source": [
        "print(M)"
      ],
      "metadata": {
        "colab": {
          "base_uri": "https://localhost:8080/"
        },
        "id": "a90Wk5m1Lycl",
        "outputId": "6ea97cde-c39e-4de3-a36e-b54473b8cdbd"
      },
      "execution_count": null,
      "outputs": [
        {
          "output_type": "stream",
          "name": "stdout",
          "text": [
            "{110: 45.6, 9.2: 'xpto', (1, 0, 5): 281.9}\n"
          ]
        }
      ]
    },
    {
      "cell_type": "markdown",
      "source": [
        "CAPITULO 10.04 INTERMEDIARIO"
      ],
      "metadata": {
        "id": "yPPIh7u9vNxI"
      }
    },
    {
      "cell_type": "code",
      "source": [
        "D = {120: 'Queijo', 134: 'Arroz', 117: 'Farinha'}"
      ],
      "metadata": {
        "id": "t0qcGMy3vRsN"
      },
      "execution_count": null,
      "outputs": []
    },
    {
      "cell_type": "code",
      "source": [
        "D[125] = 'Açucar'"
      ],
      "metadata": {
        "id": "a_G6ajVIvpGk"
      },
      "execution_count": null,
      "outputs": []
    },
    {
      "cell_type": "code",
      "source": [
        "print(D)\n"
      ],
      "metadata": {
        "id": "2RCqQxJkvyb6",
        "outputId": "8c573881-23c6-480e-a056-0d22c7eddad9",
        "colab": {
          "base_uri": "https://localhost:8080/"
        }
      },
      "execution_count": null,
      "outputs": [
        {
          "output_type": "stream",
          "name": "stdout",
          "text": [
            "{120: 'Queijo', 134: 'Arroz', 117: 'Farinha', 125: 'Açucar'}\n"
          ]
        }
      ]
    },
    {
      "cell_type": "code",
      "source": [
        "D[133] = 'Macarrão'"
      ],
      "metadata": {
        "id": "cdrhiw2UqtQN"
      },
      "execution_count": null,
      "outputs": []
    },
    {
      "cell_type": "code",
      "source": [
        "print(D)"
      ],
      "metadata": {
        "colab": {
          "base_uri": "https://localhost:8080/"
        },
        "id": "c8cjsin3q8pN",
        "outputId": "f3bdfaf0-f92e-44bf-eb61-2cc5584e0958"
      },
      "execution_count": null,
      "outputs": [
        {
          "output_type": "stream",
          "name": "stdout",
          "text": [
            "{120: 'Queijo', 134: 'Arroz', 117: 'Farinha', 125: 'Açucar', 133: 'Macarrão'}\n"
          ]
        }
      ]
    },
    {
      "cell_type": "code",
      "source": [
        "len(D)"
      ],
      "metadata": {
        "colab": {
          "base_uri": "https://localhost:8080/"
        },
        "id": "fve9g_e1q-hY",
        "outputId": "606d3a05-2dd2-415f-8684-710667cd85d7"
      },
      "execution_count": null,
      "outputs": [
        {
          "output_type": "execute_result",
          "data": {
            "text/plain": [
              "5"
            ]
          },
          "metadata": {},
          "execution_count": 6
        }
      ]
    },
    {
      "cell_type": "code",
      "source": [
        "D.clear()"
      ],
      "metadata": {
        "id": "e6gWTzdprLwU"
      },
      "execution_count": null,
      "outputs": []
    },
    {
      "cell_type": "code",
      "source": [
        "D"
      ],
      "metadata": {
        "colab": {
          "base_uri": "https://localhost:8080/"
        },
        "id": "MdubXMkjrP3B",
        "outputId": "88149453-ac84-471f-cd99-a602ed1433b8"
      },
      "execution_count": null,
      "outputs": [
        {
          "output_type": "execute_result",
          "data": {
            "text/plain": [
              "{}"
            ]
          },
          "metadata": {},
          "execution_count": 8
        }
      ]
    },
    {
      "cell_type": "code",
      "source": [
        "D = {120: 'Queijo', 134: 'Arroz', 117: 'Farinha', 125: 'Açucar', 133: 'Macarrão'}"
      ],
      "metadata": {
        "id": "WRZhjlsYrVto"
      },
      "execution_count": null,
      "outputs": []
    },
    {
      "cell_type": "code",
      "source": [
        "A = D.copy()"
      ],
      "metadata": {
        "id": "uWGrSiBDrkta"
      },
      "execution_count": null,
      "outputs": []
    },
    {
      "cell_type": "code",
      "source": [
        "A"
      ],
      "metadata": {
        "colab": {
          "base_uri": "https://localhost:8080/"
        },
        "id": "0rziBYcyrpXd",
        "outputId": "d2314cb0-9c4e-43e4-8767-418a96af58a0"
      },
      "execution_count": null,
      "outputs": [
        {
          "output_type": "execute_result",
          "data": {
            "text/plain": [
              "{120: 'Queijo', 134: 'Arroz', 117: 'Farinha', 125: 'Açucar', 133: 'Macarrão'}"
            ]
          },
          "metadata": {},
          "execution_count": 11
        }
      ]
    },
    {
      "cell_type": "code",
      "source": [
        "D"
      ],
      "metadata": {
        "colab": {
          "base_uri": "https://localhost:8080/"
        },
        "id": "707ncckirs9q",
        "outputId": "449e5f0b-8389-4021-bef7-adaf56b4b169"
      },
      "execution_count": null,
      "outputs": [
        {
          "output_type": "execute_result",
          "data": {
            "text/plain": [
              "{120: 'Queijo', 134: 'Arroz', 117: 'Farinha', 125: 'Açucar', 133: 'Macarrão'}"
            ]
          },
          "metadata": {},
          "execution_count": 12
        }
      ]
    },
    {
      "cell_type": "code",
      "source": [
        "id(A)"
      ],
      "metadata": {
        "colab": {
          "base_uri": "https://localhost:8080/"
        },
        "id": "0v3U3PSyr3SA",
        "outputId": "a5a16c38-5eb8-4a8d-8a0a-540ccc96a45e"
      },
      "execution_count": null,
      "outputs": [
        {
          "output_type": "execute_result",
          "data": {
            "text/plain": [
              "135227301840192"
            ]
          },
          "metadata": {},
          "execution_count": 13
        }
      ]
    },
    {
      "cell_type": "code",
      "source": [
        "id(D)"
      ],
      "metadata": {
        "colab": {
          "base_uri": "https://localhost:8080/"
        },
        "id": "1iR0u4TTr7dm",
        "outputId": "e6586b6a-9918-4421-e8dd-1f52dc83f332"
      },
      "execution_count": null,
      "outputs": [
        {
          "output_type": "execute_result",
          "data": {
            "text/plain": [
              "135227301853312"
            ]
          },
          "metadata": {},
          "execution_count": 14
        }
      ]
    },
    {
      "cell_type": "code",
      "source": [
        "A = D"
      ],
      "metadata": {
        "id": "8-FbLYSrsKLt"
      },
      "execution_count": null,
      "outputs": []
    },
    {
      "cell_type": "code",
      "source": [
        "A"
      ],
      "metadata": {
        "colab": {
          "base_uri": "https://localhost:8080/"
        },
        "id": "s-dybKocsNbY",
        "outputId": "a8d4a429-be18-492f-f496-2439f248358f"
      },
      "execution_count": null,
      "outputs": [
        {
          "output_type": "execute_result",
          "data": {
            "text/plain": [
              "{120: 'Queijo', 134: 'Arroz', 117: 'Farinha', 125: 'Açucar', 133: 'Macarrão'}"
            ]
          },
          "metadata": {},
          "execution_count": 16
        }
      ]
    },
    {
      "cell_type": "code",
      "source": [
        "D"
      ],
      "metadata": {
        "colab": {
          "base_uri": "https://localhost:8080/"
        },
        "id": "A3vnchtosQrp",
        "outputId": "27612ef2-4f3b-48b7-dae9-8c6a2b49d098"
      },
      "execution_count": null,
      "outputs": [
        {
          "output_type": "execute_result",
          "data": {
            "text/plain": [
              "{120: 'Queijo', 134: 'Arroz', 117: 'Farinha', 125: 'Açucar', 133: 'Macarrão'}"
            ]
          },
          "metadata": {},
          "execution_count": 17
        }
      ]
    },
    {
      "cell_type": "code",
      "source": [
        "id(A)"
      ],
      "metadata": {
        "colab": {
          "base_uri": "https://localhost:8080/"
        },
        "id": "nrJ-PefZsTnu",
        "outputId": "593d82be-8ba7-4edb-e8a0-7cf14fc2944d"
      },
      "execution_count": null,
      "outputs": [
        {
          "output_type": "execute_result",
          "data": {
            "text/plain": [
              "135227301853312"
            ]
          },
          "metadata": {},
          "execution_count": 18
        }
      ]
    },
    {
      "cell_type": "code",
      "source": [
        "A.get(134)"
      ],
      "metadata": {
        "colab": {
          "base_uri": "https://localhost:8080/",
          "height": 36
        },
        "id": "ohKOYFaas0Bm",
        "outputId": "b7756dc2-5e02-4963-bfaa-c6e4cfa2d737"
      },
      "execution_count": null,
      "outputs": [
        {
          "output_type": "execute_result",
          "data": {
            "text/plain": [
              "'Arroz'"
            ],
            "application/vnd.google.colaboratory.intrinsic+json": {
              "type": "string"
            }
          },
          "metadata": {},
          "execution_count": 19
        }
      ]
    },
    {
      "cell_type": "code",
      "source": [
        "X = A.get(134)"
      ],
      "metadata": {
        "id": "E4wXCVoVs4OT"
      },
      "execution_count": null,
      "outputs": []
    },
    {
      "cell_type": "code",
      "source": [
        "X"
      ],
      "metadata": {
        "colab": {
          "base_uri": "https://localhost:8080/",
          "height": 36
        },
        "id": "bf2YwgIgs8jo",
        "outputId": "9ec5874d-974d-4523-ea26-99d2c15c986b"
      },
      "execution_count": null,
      "outputs": [
        {
          "output_type": "execute_result",
          "data": {
            "text/plain": [
              "'Arroz'"
            ],
            "application/vnd.google.colaboratory.intrinsic+json": {
              "type": "string"
            }
          },
          "metadata": {},
          "execution_count": 21
        }
      ]
    },
    {
      "cell_type": "code",
      "source": [
        "X = A[125]"
      ],
      "metadata": {
        "id": "tzlBrJ7VtBBD"
      },
      "execution_count": null,
      "outputs": []
    },
    {
      "cell_type": "code",
      "source": [
        "X"
      ],
      "metadata": {
        "colab": {
          "base_uri": "https://localhost:8080/",
          "height": 36
        },
        "id": "v4EYsrpVtEMn",
        "outputId": "3ab48fde-78c6-427a-d517-f456186a2804"
      },
      "execution_count": null,
      "outputs": [
        {
          "output_type": "execute_result",
          "data": {
            "text/plain": [
              "'Açucar'"
            ],
            "application/vnd.google.colaboratory.intrinsic+json": {
              "type": "string"
            }
          },
          "metadata": {},
          "execution_count": 23
        }
      ]
    },
    {
      "cell_type": "code",
      "source": [
        "A = D.copy()"
      ],
      "metadata": {
        "id": "1rGNgVWHt0xi"
      },
      "execution_count": null,
      "outputs": []
    },
    {
      "cell_type": "code",
      "source": [
        "A"
      ],
      "metadata": {
        "colab": {
          "base_uri": "https://localhost:8080/"
        },
        "id": "jAUuV1wPt6DC",
        "outputId": "cc0709f5-ccfc-4425-e4a2-3b90c82082f3"
      },
      "execution_count": null,
      "outputs": [
        {
          "output_type": "execute_result",
          "data": {
            "text/plain": [
              "{120: 'Queijo', 134: 'Arroz', 117: 'Farinha', 125: 'Açucar', 133: 'Macarrão'}"
            ]
          },
          "metadata": {},
          "execution_count": 25
        }
      ]
    },
    {
      "cell_type": "code",
      "source": [
        "D"
      ],
      "metadata": {
        "colab": {
          "base_uri": "https://localhost:8080/"
        },
        "id": "QpQ_jY11t8J-",
        "outputId": "8295e21f-d72c-4880-8da4-83d9324a7634"
      },
      "execution_count": null,
      "outputs": [
        {
          "output_type": "execute_result",
          "data": {
            "text/plain": [
              "{120: 'Queijo', 134: 'Arroz', 117: 'Farinha', 125: 'Açucar', 133: 'Macarrão'}"
            ]
          },
          "metadata": {},
          "execution_count": 26
        }
      ]
    },
    {
      "cell_type": "code",
      "source": [
        "codigos = (111, 139, 143, 157)"
      ],
      "metadata": {
        "id": "bM8gjdesuCJy"
      },
      "execution_count": null,
      "outputs": []
    },
    {
      "cell_type": "code",
      "source": [
        "A.fromkeys(codigos)"
      ],
      "metadata": {
        "colab": {
          "base_uri": "https://localhost:8080/"
        },
        "id": "ZRjhMVN1uJkq",
        "outputId": "ba324387-687c-4d61-d045-f0bc2555e7a7"
      },
      "execution_count": null,
      "outputs": [
        {
          "output_type": "execute_result",
          "data": {
            "text/plain": [
              "{111: None, 139: None, 143: None, 157: None}"
            ]
          },
          "metadata": {},
          "execution_count": 29
        }
      ]
    },
    {
      "cell_type": "code",
      "source": [
        "A"
      ],
      "metadata": {
        "colab": {
          "base_uri": "https://localhost:8080/"
        },
        "id": "yiNJAYBxuOgv",
        "outputId": "a76fd332-95c0-4ffd-dc7b-8c5cefe5afb3"
      },
      "execution_count": null,
      "outputs": [
        {
          "output_type": "execute_result",
          "data": {
            "text/plain": [
              "{120: 'Queijo', 134: 'Arroz', 117: 'Farinha', 125: 'Açucar', 133: 'Macarrão'}"
            ]
          },
          "metadata": {},
          "execution_count": 30
        }
      ]
    },
    {
      "cell_type": "code",
      "source": [
        "A.fromkeys(codigos, 'algo')"
      ],
      "metadata": {
        "colab": {
          "base_uri": "https://localhost:8080/"
        },
        "id": "LkOU9maIuxAj",
        "outputId": "f8875741-dfde-4fd4-f98d-6832a80b0cf7"
      },
      "execution_count": null,
      "outputs": [
        {
          "output_type": "execute_result",
          "data": {
            "text/plain": [
              "{111: 'algo', 139: 'algo', 143: 'algo', 157: 'algo'}"
            ]
          },
          "metadata": {},
          "execution_count": 31
        }
      ]
    },
    {
      "cell_type": "code",
      "source": [
        "A"
      ],
      "metadata": {
        "colab": {
          "base_uri": "https://localhost:8080/"
        },
        "id": "n3rpOjpVu-uM",
        "outputId": "a3c671f5-c02f-493e-8db8-ff7595e267e5"
      },
      "execution_count": null,
      "outputs": [
        {
          "output_type": "execute_result",
          "data": {
            "text/plain": [
              "{120: 'Queijo', 134: 'Arroz', 117: 'Farinha', 125: 'Açucar', 133: 'Macarrão'}"
            ]
          },
          "metadata": {},
          "execution_count": 32
        }
      ]
    },
    {
      "cell_type": "code",
      "source": [
        "A = {}"
      ],
      "metadata": {
        "id": "y2cGzFo8vBt9"
      },
      "execution_count": null,
      "outputs": []
    },
    {
      "cell_type": "code",
      "source": [
        "del(A)"
      ],
      "metadata": {
        "id": "dGOkYLcvvFP7"
      },
      "execution_count": null,
      "outputs": []
    },
    {
      "cell_type": "code",
      "source": [
        "A"
      ],
      "metadata": {
        "colab": {
          "base_uri": "https://localhost:8080/",
          "height": 141
        },
        "id": "Q3-k3ObVvJjO",
        "outputId": "aed00f06-aa7b-44a3-c4da-61f11e86f980"
      },
      "execution_count": null,
      "outputs": [
        {
          "output_type": "error",
          "ename": "NameError",
          "evalue": "name 'A' is not defined",
          "traceback": [
            "\u001b[0;31m---------------------------------------------------------------------------\u001b[0m",
            "\u001b[0;31mNameError\u001b[0m                                 Traceback (most recent call last)",
            "\u001b[0;32m/tmp/ipython-input-378453753.py\u001b[0m in \u001b[0;36m<cell line: 0>\u001b[0;34m()\u001b[0m\n\u001b[0;32m----> 1\u001b[0;31m \u001b[0mA\u001b[0m\u001b[0;34m\u001b[0m\u001b[0;34m\u001b[0m\u001b[0m\n\u001b[0m",
            "\u001b[0;31mNameError\u001b[0m: name 'A' is not defined"
          ]
        }
      ]
    },
    {
      "cell_type": "code",
      "source": [
        "A = {}.fromkeys(codigos, '')"
      ],
      "metadata": {
        "id": "0NzRoKhBvNJk"
      },
      "execution_count": null,
      "outputs": []
    },
    {
      "cell_type": "code",
      "source": [
        "A"
      ],
      "metadata": {
        "colab": {
          "base_uri": "https://localhost:8080/"
        },
        "id": "vQjPSrJEvcWq",
        "outputId": "8894fb25-84c5-42d9-f4c6-2590793d7a35"
      },
      "execution_count": null,
      "outputs": [
        {
          "output_type": "execute_result",
          "data": {
            "text/plain": [
              "{111: '', 139: '', 143: '', 157: ''}"
            ]
          },
          "metadata": {},
          "execution_count": 37
        }
      ]
    },
    {
      "cell_type": "code",
      "source": [
        "A[111] = 'Vinagre'"
      ],
      "metadata": {
        "id": "w4ZnXCHhvnUn"
      },
      "execution_count": null,
      "outputs": []
    },
    {
      "cell_type": "code",
      "source": [
        "A"
      ],
      "metadata": {
        "colab": {
          "base_uri": "https://localhost:8080/"
        },
        "id": "gj_KIwlNvydk",
        "outputId": "aaa363be-f496-411c-c267-e9adc35fd234"
      },
      "execution_count": null,
      "outputs": [
        {
          "output_type": "execute_result",
          "data": {
            "text/plain": [
              "{111: 'Vinagre', 139: '', 143: '', 157: ''}"
            ]
          },
          "metadata": {},
          "execution_count": 40
        }
      ]
    },
    {
      "cell_type": "code",
      "source": [
        "D"
      ],
      "metadata": {
        "colab": {
          "base_uri": "https://localhost:8080/"
        },
        "id": "aOHbj_HLwIaZ",
        "outputId": "41d07fa1-7696-4dd7-94f2-5b5deef2f6a3"
      },
      "execution_count": null,
      "outputs": [
        {
          "output_type": "execute_result",
          "data": {
            "text/plain": [
              "{120: 'Queijo',\n",
              " 134: 'Arroz',\n",
              " 117: 'Farinha',\n",
              " 125: 'Açucar',\n",
              " 133: 'Macarrão',\n",
              " 111: 'Vinagre'}"
            ]
          },
          "metadata": {},
          "execution_count": 41
        }
      ]
    },
    {
      "cell_type": "code",
      "source": [
        "X = D.pop(111)"
      ],
      "metadata": {
        "id": "eb1N8AxPwLgG"
      },
      "execution_count": null,
      "outputs": []
    },
    {
      "cell_type": "code",
      "source": [
        "X"
      ],
      "metadata": {
        "colab": {
          "base_uri": "https://localhost:8080/",
          "height": 36
        },
        "id": "OAXlL7VnwaWl",
        "outputId": "a57bbd0d-6559-45d5-9ead-dce20757a2cf"
      },
      "execution_count": null,
      "outputs": [
        {
          "output_type": "execute_result",
          "data": {
            "text/plain": [
              "'Vinagre'"
            ],
            "application/vnd.google.colaboratory.intrinsic+json": {
              "type": "string"
            }
          },
          "metadata": {},
          "execution_count": 43
        }
      ]
    },
    {
      "cell_type": "code",
      "source": [
        "D"
      ],
      "metadata": {
        "colab": {
          "base_uri": "https://localhost:8080/"
        },
        "id": "Z5RZYai6wdRM",
        "outputId": "67527ed8-adad-43dc-fb0f-e2bfafbdc4ff"
      },
      "execution_count": null,
      "outputs": [
        {
          "output_type": "execute_result",
          "data": {
            "text/plain": [
              "{120: 'Queijo', 134: 'Arroz', 117: 'Farinha', 125: 'Açucar', 133: 'Macarrão'}"
            ]
          },
          "metadata": {},
          "execution_count": 44
        }
      ]
    },
    {
      "cell_type": "code",
      "source": [
        "X = D.pop(117)"
      ],
      "metadata": {
        "id": "L93_qmjKwkQH"
      },
      "execution_count": null,
      "outputs": []
    },
    {
      "cell_type": "code",
      "source": [
        "X"
      ],
      "metadata": {
        "colab": {
          "base_uri": "https://localhost:8080/",
          "height": 36
        },
        "id": "5xzG8Gv1wqKU",
        "outputId": "826d95b3-0b8f-4932-b8a9-e11f4ed67326"
      },
      "execution_count": null,
      "outputs": [
        {
          "output_type": "execute_result",
          "data": {
            "text/plain": [
              "'Farinha'"
            ],
            "application/vnd.google.colaboratory.intrinsic+json": {
              "type": "string"
            }
          },
          "metadata": {},
          "execution_count": 46
        }
      ]
    },
    {
      "cell_type": "code",
      "source": [
        "D = {120: 'Queijo',\n",
        " 134: 'Arroz',\n",
        " 117: 'Farinha',\n",
        " 125: 'Açucar',\n",
        " 133: 'Macarrão',\n",
        " 111: 'Vinagre'}"
      ],
      "metadata": {
        "id": "TaSoagHewssI"
      },
      "execution_count": null,
      "outputs": []
    },
    {
      "cell_type": "code",
      "source": [
        "D"
      ],
      "metadata": {
        "colab": {
          "base_uri": "https://localhost:8080/"
        },
        "id": "ZPEK9nNbxCmL",
        "outputId": "8d5a7e49-0734-4e22-ffbf-0bd2faec103c"
      },
      "execution_count": null,
      "outputs": [
        {
          "output_type": "execute_result",
          "data": {
            "text/plain": [
              "{120: 'Queijo',\n",
              " 134: 'Arroz',\n",
              " 117: 'Farinha',\n",
              " 125: 'Açucar',\n",
              " 133: 'Macarrão',\n",
              " 111: 'Vinagre'}"
            ]
          },
          "metadata": {},
          "execution_count": 48
        }
      ]
    },
    {
      "cell_type": "code",
      "source": [
        "X = D.popitem()  ###Ele deleta o ultimo elemento do dicionario"
      ],
      "metadata": {
        "id": "dJggsXI-xU-l"
      },
      "execution_count": null,
      "outputs": []
    },
    {
      "cell_type": "code",
      "source": [
        "X"
      ],
      "metadata": {
        "colab": {
          "base_uri": "https://localhost:8080/"
        },
        "id": "j-hsaPqhxfxP",
        "outputId": "cba3e53c-63a2-416b-f99a-5a186fa34b90"
      },
      "execution_count": null,
      "outputs": [
        {
          "output_type": "execute_result",
          "data": {
            "text/plain": [
              "(111, 'Vinagre')"
            ]
          },
          "metadata": {},
          "execution_count": 50
        }
      ]
    },
    {
      "cell_type": "code",
      "source": [
        "D"
      ],
      "metadata": {
        "colab": {
          "base_uri": "https://localhost:8080/"
        },
        "id": "CfvYifhoxkj-",
        "outputId": "5037ac46-05bf-470c-d0da-1f0fa51f2f83"
      },
      "execution_count": null,
      "outputs": [
        {
          "output_type": "execute_result",
          "data": {
            "text/plain": [
              "{120: 'Queijo', 134: 'Arroz', 117: 'Farinha', 125: 'Açucar', 133: 'Macarrão'}"
            ]
          },
          "metadata": {},
          "execution_count": 51
        }
      ]
    },
    {
      "cell_type": "code",
      "source": [
        "type(X)  ### Ele seria uma tupla"
      ],
      "metadata": {
        "colab": {
          "base_uri": "https://localhost:8080/"
        },
        "id": "-d_p4cNJxnPa",
        "outputId": "5f0c2005-c2a4-4fcb-bcdd-fba2d1c2d840"
      },
      "execution_count": null,
      "outputs": [
        {
          "output_type": "execute_result",
          "data": {
            "text/plain": [
              "tuple"
            ]
          },
          "metadata": {},
          "execution_count": 54
        }
      ]
    },
    {
      "cell_type": "code",
      "source": [
        "X = D.popitem()"
      ],
      "metadata": {
        "id": "F1Uo4cOwyJWN"
      },
      "execution_count": null,
      "outputs": []
    },
    {
      "cell_type": "code",
      "source": [
        "D"
      ],
      "metadata": {
        "colab": {
          "base_uri": "https://localhost:8080/"
        },
        "id": "8Cvl6jeByLGI",
        "outputId": "e9348fe0-0d47-47f5-a603-c3b012c8acef"
      },
      "execution_count": null,
      "outputs": [
        {
          "output_type": "execute_result",
          "data": {
            "text/plain": [
              "{120: 'Queijo', 134: 'Arroz', 117: 'Farinha'}"
            ]
          },
          "metadata": {},
          "execution_count": 57
        }
      ]
    },
    {
      "cell_type": "code",
      "source": [
        "X = D.popitem()"
      ],
      "metadata": {
        "id": "LasMbx0XyNCs"
      },
      "execution_count": null,
      "outputs": []
    },
    {
      "cell_type": "code",
      "source": [
        "D"
      ],
      "metadata": {
        "colab": {
          "base_uri": "https://localhost:8080/"
        },
        "id": "fuAPxLYiyOYv",
        "outputId": "0cf27692-0446-448f-8a07-a70304dc7c60"
      },
      "execution_count": null,
      "outputs": [
        {
          "output_type": "execute_result",
          "data": {
            "text/plain": [
              "{120: 'Queijo', 134: 'Arroz'}"
            ]
          },
          "metadata": {},
          "execution_count": 59
        }
      ]
    },
    {
      "cell_type": "code",
      "source": [
        "X = D.popitem()"
      ],
      "metadata": {
        "id": "3H5cJ0dDyQHF"
      },
      "execution_count": null,
      "outputs": []
    },
    {
      "cell_type": "code",
      "source": [
        "D"
      ],
      "metadata": {
        "colab": {
          "base_uri": "https://localhost:8080/"
        },
        "id": "rSgRUbgnyRbm",
        "outputId": "0689b131-4202-49f4-e1cf-cf24cfcd19b0"
      },
      "execution_count": null,
      "outputs": [
        {
          "output_type": "execute_result",
          "data": {
            "text/plain": [
              "{120: 'Queijo'}"
            ]
          },
          "metadata": {},
          "execution_count": 61
        }
      ]
    },
    {
      "cell_type": "code",
      "source": [
        "X = D.popitem()"
      ],
      "metadata": {
        "id": "YP6idK_6yS67"
      },
      "execution_count": null,
      "outputs": []
    },
    {
      "cell_type": "code",
      "source": [
        "D"
      ],
      "metadata": {
        "colab": {
          "base_uri": "https://localhost:8080/"
        },
        "id": "6yaI8ZANyUHc",
        "outputId": "56758dfd-c099-4a71-cf9c-b95400d6d530"
      },
      "execution_count": null,
      "outputs": [
        {
          "output_type": "execute_result",
          "data": {
            "text/plain": [
              "{}"
            ]
          },
          "metadata": {},
          "execution_count": 63
        }
      ]
    },
    {
      "cell_type": "code",
      "source": [
        "X = D.popitem()  ### NÃO SE PODE FAZER POPITEM COM O DICIONARIO VAZIO"
      ],
      "metadata": {
        "colab": {
          "base_uri": "https://localhost:8080/",
          "height": 141
        },
        "id": "b0xZ3OKNyVec",
        "outputId": "08075f04-00ee-429b-8229-d9ef3d225fe1"
      },
      "execution_count": null,
      "outputs": [
        {
          "output_type": "error",
          "ename": "KeyError",
          "evalue": "'popitem(): dictionary is empty'",
          "traceback": [
            "\u001b[0;31m---------------------------------------------------------------------------\u001b[0m",
            "\u001b[0;31mKeyError\u001b[0m                                  Traceback (most recent call last)",
            "\u001b[0;32m/tmp/ipython-input-1099261056.py\u001b[0m in \u001b[0;36m<cell line: 0>\u001b[0;34m()\u001b[0m\n\u001b[0;32m----> 1\u001b[0;31m \u001b[0mX\u001b[0m \u001b[0;34m=\u001b[0m \u001b[0mD\u001b[0m\u001b[0;34m.\u001b[0m\u001b[0mpopitem\u001b[0m\u001b[0;34m(\u001b[0m\u001b[0;34m)\u001b[0m  \u001b[0;31m### NÃO SE PODE FAZER POPITEM COM O DICIONARIO VAZIO\u001b[0m\u001b[0;34m\u001b[0m\u001b[0;34m\u001b[0m\u001b[0m\n\u001b[0m",
            "\u001b[0;31mKeyError\u001b[0m: 'popitem(): dictionary is empty'"
          ]
        }
      ]
    },
    {
      "cell_type": "code",
      "source": [
        "D = {120: 'Queijo',\n",
        " 134: 'Arroz',\n",
        " 117: 'Farinha',\n",
        " 125: 'Açucar',\n",
        " 133: 'Macarrão',\n",
        " 111: 'Vinagre'}"
      ],
      "metadata": {
        "id": "9FKD0Ikgy0U1"
      },
      "execution_count": null,
      "outputs": []
    },
    {
      "cell_type": "code",
      "source": [
        "D"
      ],
      "metadata": {
        "colab": {
          "base_uri": "https://localhost:8080/"
        },
        "id": "X1D69B9vy50n",
        "outputId": "992f7866-311a-4346-b636-a6c645737ed8"
      },
      "execution_count": null,
      "outputs": [
        {
          "output_type": "execute_result",
          "data": {
            "text/plain": [
              "{120: 'Queijo',\n",
              " 134: 'Arroz',\n",
              " 117: 'Farinha',\n",
              " 125: 'Açucar',\n",
              " 133: 'Macarrão',\n",
              " 111: 'Vinagre'}"
            ]
          },
          "metadata": {},
          "execution_count": 67
        }
      ]
    },
    {
      "cell_type": "code",
      "source": [
        "R = D.setdefault(144, 'feijão')"
      ],
      "metadata": {
        "id": "qY4p7vljzk39"
      },
      "execution_count": null,
      "outputs": []
    },
    {
      "cell_type": "code",
      "source": [
        "R"
      ],
      "metadata": {
        "colab": {
          "base_uri": "https://localhost:8080/",
          "height": 36
        },
        "id": "vrqwYPoUzvfy",
        "outputId": "83c938a0-81bf-4d5d-ce60-5e0511f7a23d"
      },
      "execution_count": null,
      "outputs": [
        {
          "output_type": "execute_result",
          "data": {
            "text/plain": [
              "'feijão'"
            ],
            "application/vnd.google.colaboratory.intrinsic+json": {
              "type": "string"
            }
          },
          "metadata": {},
          "execution_count": 72
        }
      ]
    },
    {
      "cell_type": "code",
      "source": [
        "D"
      ],
      "metadata": {
        "colab": {
          "base_uri": "https://localhost:8080/"
        },
        "id": "rHJTX3TUzxTK",
        "outputId": "34aaeb13-2128-4f48-b20c-976678962904"
      },
      "execution_count": null,
      "outputs": [
        {
          "output_type": "execute_result",
          "data": {
            "text/plain": [
              "{120: 'Queijo',\n",
              " 134: 'Arroz',\n",
              " 117: 'Farinha',\n",
              " 125: 'Açucar',\n",
              " 133: 'Macarrão',\n",
              " 111: 'Vinagre',\n",
              " 144: 'feijão'}"
            ]
          },
          "metadata": {},
          "execution_count": 73
        }
      ]
    },
    {
      "cell_type": "code",
      "source": [
        "R = D.setdefault(117, 'Feijão')"
      ],
      "metadata": {
        "id": "0hvvfcoJ0GuH"
      },
      "execution_count": null,
      "outputs": []
    },
    {
      "cell_type": "code",
      "source": [
        "R"
      ],
      "metadata": {
        "colab": {
          "base_uri": "https://localhost:8080/",
          "height": 36
        },
        "id": "kh4UnKQg0Tl_",
        "outputId": "a48a93e6-41cb-4df4-994f-b0a06542f2f1"
      },
      "execution_count": null,
      "outputs": [
        {
          "output_type": "execute_result",
          "data": {
            "text/plain": [
              "'Farinha'"
            ],
            "application/vnd.google.colaboratory.intrinsic+json": {
              "type": "string"
            }
          },
          "metadata": {},
          "execution_count": 76
        }
      ]
    },
    {
      "cell_type": "code",
      "source": [
        "D"
      ],
      "metadata": {
        "colab": {
          "base_uri": "https://localhost:8080/"
        },
        "id": "MIBc4Bqm0W1n",
        "outputId": "b9c17dbb-8ab0-4a59-9d71-59802f95fca2"
      },
      "execution_count": null,
      "outputs": [
        {
          "output_type": "execute_result",
          "data": {
            "text/plain": [
              "{120: 'Queijo',\n",
              " 134: 'Arroz',\n",
              " 117: 'Farinha',\n",
              " 125: 'Açucar',\n",
              " 133: 'Macarrão',\n",
              " 111: 'Vinagre',\n",
              " 144: 'feijão'}"
            ]
          },
          "metadata": {},
          "execution_count": 77
        }
      ]
    },
    {
      "cell_type": "code",
      "source": [
        "D.update( ((177, 'Cebola'), (217, ' Maçã'), (185, 'Abacate')) )  ##ele exige que tem de ser uma lista ou uma tupla\n",
        "                              ##e dentro desta tupla tem de um par em forma de tupla"
      ],
      "metadata": {
        "id": "H4EeKS700i1b"
      },
      "execution_count": null,
      "outputs": []
    },
    {
      "cell_type": "code",
      "source": [
        "D"
      ],
      "metadata": {
        "colab": {
          "base_uri": "https://localhost:8080/"
        },
        "id": "QGxZ5vt01rU6",
        "outputId": "879d7684-94e4-4545-86a0-73210841c29a"
      },
      "execution_count": null,
      "outputs": [
        {
          "output_type": "execute_result",
          "data": {
            "text/plain": [
              "{120: 'Queijo',\n",
              " 134: 'Arroz',\n",
              " 117: 'Farinha',\n",
              " 125: 'Açucar',\n",
              " 133: 'Macarrão',\n",
              " 111: 'Vinagre',\n",
              " 144: 'feijão',\n",
              " 177: 'Cebola',\n",
              " 217: ' Maçã',\n",
              " 185: 'Abacate'}"
            ]
          },
          "metadata": {},
          "execution_count": 80
        }
      ]
    },
    {
      "cell_type": "code",
      "source": [
        "Ch = D.keys()  ##Mostra a relação de todas as chaves inseridas no dicionario. E na ordem em que foram inseridos."
      ],
      "metadata": {
        "id": "DPb0PuRX2Yh3"
      },
      "execution_count": null,
      "outputs": []
    },
    {
      "cell_type": "code",
      "source": [
        "Ch"
      ],
      "metadata": {
        "colab": {
          "base_uri": "https://localhost:8080/"
        },
        "id": "i4jpUIZP2e8v",
        "outputId": "630e6cc3-719a-4cdd-bf19-2f027d164211"
      },
      "execution_count": null,
      "outputs": [
        {
          "output_type": "execute_result",
          "data": {
            "text/plain": [
              "dict_keys([120, 134, 117, 125, 133, 111, 144, 177, 217, 185])"
            ]
          },
          "metadata": {},
          "execution_count": 82
        }
      ]
    },
    {
      "cell_type": "code",
      "source": [
        "Vl = D.values()"
      ],
      "metadata": {
        "id": "JM-xxUJW3GJV"
      },
      "execution_count": null,
      "outputs": []
    },
    {
      "cell_type": "code",
      "source": [
        "Vl ## mostra os valores do dicionario"
      ],
      "metadata": {
        "colab": {
          "base_uri": "https://localhost:8080/"
        },
        "id": "IOJp_eX-3Jxb",
        "outputId": "3ba6fffd-f456-4c1f-da68-d3ec2738a792"
      },
      "execution_count": null,
      "outputs": [
        {
          "output_type": "execute_result",
          "data": {
            "text/plain": [
              "dict_values(['Queijo', 'Arroz', 'Farinha', 'Açucar', 'Macarrão', 'Vinagre', 'feijão', 'Cebola', ' Maçã', 'Abacate'])"
            ]
          },
          "metadata": {},
          "execution_count": 85
        }
      ]
    },
    {
      "cell_type": "code",
      "source": [
        "It = D.items() ##Retorna o dicionario, como uma lista de tuplas"
      ],
      "metadata": {
        "id": "liNdtImP3xJY"
      },
      "execution_count": null,
      "outputs": []
    },
    {
      "cell_type": "code",
      "source": [
        "It"
      ],
      "metadata": {
        "colab": {
          "base_uri": "https://localhost:8080/"
        },
        "id": "-mwhZGNk34zK",
        "outputId": "d0220838-4353-45ca-fb4a-ae95a87c7271"
      },
      "execution_count": null,
      "outputs": [
        {
          "output_type": "execute_result",
          "data": {
            "text/plain": [
              "dict_items([(120, 'Queijo'), (134, 'Arroz'), (117, 'Farinha'), (125, 'Açucar'), (133, 'Macarrão'), (111, 'Vinagre'), (144, 'feijão'), (177, 'Cebola'), (217, ' Maçã'), (185, 'Abacate')])"
            ]
          },
          "metadata": {},
          "execution_count": 90
        }
      ]
    },
    {
      "cell_type": "code",
      "source": [
        "for k in D.items():\n",
        "  print(k)"
      ],
      "metadata": {
        "colab": {
          "base_uri": "https://localhost:8080/"
        },
        "id": "M_EyPA8B4cn7",
        "outputId": "9b93e963-a296-4cf2-f47d-0d13138daa1f"
      },
      "execution_count": null,
      "outputs": [
        {
          "output_type": "stream",
          "name": "stdout",
          "text": [
            "(120, 'Queijo')\n",
            "(134, 'Arroz')\n",
            "(117, 'Farinha')\n",
            "(125, 'Açucar')\n",
            "(133, 'Macarrão')\n",
            "(111, 'Vinagre')\n",
            "(144, 'feijão')\n",
            "(177, 'Cebola')\n",
            "(217, ' Maçã')\n",
            "(185, 'Abacate')\n"
          ]
        }
      ]
    },
    {
      "cell_type": "code",
      "source": [
        "for k in D.keys():\n",
        "  print(k)"
      ],
      "metadata": {
        "colab": {
          "base_uri": "https://localhost:8080/"
        },
        "id": "Icm9UfuS48sP",
        "outputId": "3060f53c-2fd2-4682-8d40-335029fc060c"
      },
      "execution_count": null,
      "outputs": [
        {
          "output_type": "stream",
          "name": "stdout",
          "text": [
            "120\n",
            "134\n",
            "117\n",
            "125\n",
            "133\n",
            "111\n",
            "144\n",
            "177\n",
            "217\n",
            "185\n"
          ]
        }
      ]
    },
    {
      "cell_type": "code",
      "source": [
        "for k in D.values():\n",
        "  print(k)"
      ],
      "metadata": {
        "colab": {
          "base_uri": "https://localhost:8080/"
        },
        "id": "mS29FaTX4w2v",
        "outputId": "43f07e41-25d6-45d9-ed3d-f594d6743101"
      },
      "execution_count": null,
      "outputs": [
        {
          "output_type": "stream",
          "name": "stdout",
          "text": [
            "Queijo\n",
            "Arroz\n",
            "Farinha\n",
            "Açucar\n",
            "Macarrão\n",
            "Vinagre\n",
            "feijão\n",
            "Cebola\n",
            " Maçã\n",
            "Abacate\n"
          ]
        }
      ]
    },
    {
      "cell_type": "markdown",
      "source": [
        "CAPITULO **10.05**  Interação com elementos do Dicionario\n",
        "\n",
        "---\n",
        "\n",
        "\n",
        "\n",
        "---\n",
        "\n"
      ],
      "metadata": {
        "id": "c5MsfX8V5ud-"
      }
    },
    {
      "cell_type": "code",
      "source": [
        "Cores ={1: 'Azul', 2: 'Verde', 3: 'Amarelo', 4: 'Vermelho'}"
      ],
      "metadata": {
        "id": "pXbd3l1d-ofi"
      },
      "execution_count": null,
      "outputs": []
    },
    {
      "cell_type": "code",
      "source": [
        "print('Exibição do dicionario - Caso 1')\n",
        "for x in Cores.keys():\n",
        "  print(f'  {x} - {Cores[x]}')\n",
        "print('\\nFim do Programa')"
      ],
      "metadata": {
        "colab": {
          "base_uri": "https://localhost:8080/"
        },
        "id": "HOaUI41Q_Okj",
        "outputId": "2e622021-2981-4636-b1f5-36c4a59678d9"
      },
      "execution_count": null,
      "outputs": [
        {
          "output_type": "stream",
          "name": "stdout",
          "text": [
            "Exibição do dicionario - Caso 1\n",
            "  1 - Azul\n",
            "  2 - Verde\n",
            "  3 - Amarelo\n",
            "  4 - Vermelho\n",
            "\n",
            "Fim do Programa\n"
          ]
        }
      ]
    },
    {
      "cell_type": "code",
      "source": [
        "##Omitiu o interador Keys, também da certo\n",
        "## O keys é sempre o default, se não colocar nada o interpretador considera o keys.\n",
        "print('Exibição do dicionario - Caso 1')\n",
        "for x in Cores:\n",
        "  print(f'  {x} - {Cores[x]}')\n",
        "print('\\nFim do Programa')"
      ],
      "metadata": {
        "colab": {
          "base_uri": "https://localhost:8080/"
        },
        "id": "ph5xgllBAYJP",
        "outputId": "43baeb2f-134e-4fba-a17e-743dacb836ce"
      },
      "execution_count": null,
      "outputs": [
        {
          "output_type": "stream",
          "name": "stdout",
          "text": [
            "Exibição do dicionario - Caso 1\n",
            "  1 - Azul\n",
            "  2 - Verde\n",
            "  3 - Amarelo\n",
            "  4 - Vermelho\n",
            "\n",
            "Fim do Programa\n"
          ]
        }
      ]
    },
    {
      "cell_type": "code",
      "source": [
        "print('Exibição do dicionario - Caso 2')\n",
        "for cor in Cores.values():\n",
        "  print(f'  {cor}')\n",
        "print('\\nFim do Programa')"
      ],
      "metadata": {
        "colab": {
          "base_uri": "https://localhost:8080/"
        },
        "id": "O8lWzUaQBNG5",
        "outputId": "697e17fa-ff24-4db5-e5eb-d1c1ef3d69f4"
      },
      "execution_count": null,
      "outputs": [
        {
          "output_type": "stream",
          "name": "stdout",
          "text": [
            "Exibição do dicionario - Caso 2\n",
            "  Azul\n",
            "  Verde\n",
            "  Amarelo\n",
            "  Vermelho\n",
            "\n",
            "Fim do Programa\n"
          ]
        }
      ]
    },
    {
      "cell_type": "code",
      "source": [
        "print('Exibição do dicionario - Caso 3')\n",
        "for item in Cores.items():\n",
        "  print(f'  {item}')\n",
        "print('\\nFim do Programa')"
      ],
      "metadata": {
        "colab": {
          "base_uri": "https://localhost:8080/"
        },
        "id": "qP8ut9cZCPab",
        "outputId": "cca1ceb1-7a98-4e2a-be51-2ee21839164a"
      },
      "execution_count": null,
      "outputs": [
        {
          "output_type": "stream",
          "name": "stdout",
          "text": [
            "Exibição do dicionario - Caso 3\n",
            "  (1, 'Azul')\n",
            "  (2, 'Verde')\n",
            "  (3, 'Amarelo')\n",
            "  (4, 'Vermelho')\n",
            "\n",
            "Fim do Programa\n"
          ]
        }
      ]
    },
    {
      "cell_type": "code",
      "source": [
        "##A saida é uma tupla então podemos usar a indexação por colchetes\n",
        "print('Exibição do dicionario - Caso 3')\n",
        "for item in Cores.items():\n",
        "  print(f'  {item[0]} - {item[1]}')\n",
        "print('\\nFim do Programa')"
      ],
      "metadata": {
        "colab": {
          "base_uri": "https://localhost:8080/"
        },
        "id": "i1nx6mlBC1ds",
        "outputId": "aaa1204a-37f4-48ff-9a87-202da5cac537"
      },
      "execution_count": null,
      "outputs": [
        {
          "output_type": "stream",
          "name": "stdout",
          "text": [
            "Exibição do dicionario - Caso 3\n",
            "  1 - Azul\n",
            "  2 - Verde\n",
            "  3 - Amarelo\n",
            "  4 - Vermelho\n",
            "\n",
            "Fim do Programa\n"
          ]
        }
      ]
    },
    {
      "cell_type": "code",
      "source": [
        "##Uma melhor representação comum entre os programadores, coloca a tupla já como entrada do for.\n",
        "print('Exibição do dicionario - Caso 3')\n",
        "for numero, cor in Cores.items():\n",
        "  print(f'  numero da cor= {numero} -  {cor}')\n",
        "print('\\nFim do Programa')"
      ],
      "metadata": {
        "colab": {
          "base_uri": "https://localhost:8080/"
        },
        "id": "rnf-S0fSDgMF",
        "outputId": "40f5d13f-1955-4a25-f48f-fa62f1b20356"
      },
      "execution_count": null,
      "outputs": [
        {
          "output_type": "stream",
          "name": "stdout",
          "text": [
            "Exibição do dicionario - Caso 3\n",
            "  numero da cor= 1 - nome da cor= Azul\n",
            "  numero da cor= 2 - nome da cor= Verde\n",
            "  numero da cor= 3 - nome da cor= Amarelo\n",
            "  numero da cor= 4 - nome da cor= Vermelho\n",
            "\n",
            "Fim do Programa\n"
          ]
        }
      ]
    },
    {
      "cell_type": "code",
      "source": [
        "''' Enunciado\n",
        "  Escreva um programa que leia do teclado o código do produto e seu preço unitario\n",
        "  o código é uma string e o preço é um real.Acrescente o par código:preço em um dicionario.\n",
        "   O laço termina quando for forneciod um string vazio para o código. Ao final, exibir cógigo\n",
        "  e preço, um produto em cada linha'''\n",
        "\n",
        "produtos = {}\n",
        "print('Leitura dos dados:')\n",
        "cod = input('Digite o código do produto: ')\n",
        "while cod != '':\n",
        "  preco = float((input)('Digite o preço:  '))\n",
        "  produtos[cod] = preco\n",
        "  cod = input('Digite o código do produto: ')\n",
        "\n",
        "print('Fim da Leitura dos dados\\n')\n",
        "print('Peços dos Produtos: ')\n",
        "for cod in produtos.keys():\n",
        "  print(f'  produto {cod} custa R$ {produtos[cod]:7.2f}')\n",
        "\n",
        "print('\\nFim do Programa')\n",
        "\n"
      ],
      "metadata": {
        "colab": {
          "base_uri": "https://localhost:8080/"
        },
        "id": "0f-pTByzF3iy",
        "outputId": "a0c5dac8-e307-4174-85b6-6a10d75d7419"
      },
      "execution_count": null,
      "outputs": [
        {
          "output_type": "stream",
          "name": "stdout",
          "text": [
            "Leitura dos dados:\n",
            "Digite o código do produto: 122\n",
            "Digite o preço:  10\n",
            "Digite o código do produto: 322\n",
            "Digite o preço:  19\n",
            "Digite o código do produto: 122\n",
            "Digite o preço:  9.99\n",
            "Digite o código do produto: \n",
            "Fim da Leitura dos dados\n",
            "\n",
            "Peços dos Produtos: \n",
            "  produto 122 custa R$    9.99\n",
            "  produto 322 custa R$   19.00\n",
            "\n",
            "Fim do Programa\n"
          ]
        }
      ]
    },
    {
      "cell_type": "code",
      "source": [],
      "metadata": {
        "id": "Uuq-eTeq6ds5"
      },
      "execution_count": null,
      "outputs": []
    },
    {
      "cell_type": "code",
      "source": [
        "''' Enunciado  Escreva um programa que leia do teclado o código do produto e seu preço unitario\n",
        "  o código é uma string e o preço é um real. Acrescente o par código:preço em um dicionario.\n",
        "  O programa deve verificar se o código ja está no dicionario , e emitir uma mensagem de erro.\n",
        "  O laço termina quando for fornecido uma string vazio para o código. Ao final, exibir cógigo\n",
        "  e preço, um produto em cada linha'''\n",
        "\n",
        "produtos = {}\n",
        "print('Leitura dos dados:')\n",
        "cod = input('Digite o código do produto: ')\n",
        "while cod != '':\n",
        "  preco = float((input)('Digite o preço:  '))\n",
        "  if cod in produtos:\n",
        "    print(f'  O produto {cod} já esta no dicionario ')\n",
        "  produtos[cod] = preco\n",
        "  cod = input('Digite o código do produto: ')\n",
        "\n",
        "print('Fim da Leitura dos dados\\n')\n",
        "print('Peços dos Produtos: ')\n",
        "for cod in produtos.keys():\n",
        "  print(f'  produto {cod} custa R$ {produtos[cod]:7.2f}')\n",
        "\n",
        "print('\\nFim do Programa')"
      ],
      "metadata": {
        "colab": {
          "base_uri": "https://localhost:8080/"
        },
        "id": "MfO7DG80qzqo",
        "outputId": "7d57ea21-b166-48fe-f6f1-9d18ff7d1e6d"
      },
      "execution_count": null,
      "outputs": [
        {
          "output_type": "stream",
          "name": "stdout",
          "text": [
            "Leitura dos dados:\n",
            "Digite o código do produto: 123\n",
            "Digite o preço:  23.6\n",
            "Digite o código do produto: 145\n",
            "Digite o preço:  8.8\n",
            "Digite o código do produto: 123\n",
            "Digite o preço:  12\n",
            "  O produto 123 já esta no dicionario \n",
            "Digite o código do produto: \n",
            "Fim da Leitura dos dados\n",
            "\n",
            "Peços dos Produtos: \n",
            "  produto 123 custa R$   23.60\n",
            "  produto 145 custa R$    8.80\n",
            "\n",
            "Fim do Programa\n"
          ]
        }
      ]
    },
    {
      "cell_type": "code",
      "source": [
        "''' O Programa anterior um pouco melhorado'''\n",
        "\n",
        "produtos = {}\n",
        "print('Leitura dos dados:')\n",
        "\n",
        "while True:\n",
        "  cod = input('Digite o código do produto: ')\n",
        "  if cod == '':\n",
        "    break\n",
        "\n",
        "  elif cod in produtos:\n",
        "    print(f'  O produto {cod} já esta no dicionario ')\n",
        "    continue\n",
        "  preco = float(input(' Digite o preço: '))\n",
        "  produtos[cod] = preco\n",
        "\n",
        "print('Fim da Leitura dos dados\\n')\n",
        "\n",
        "for cod in produtos.keys():\n",
        "  print(f'  produto {cod} custa R$ {produtos[cod]:7.2f}')\n",
        "\n",
        "print('\\nFim do Programa')"
      ],
      "metadata": {
        "colab": {
          "base_uri": "https://localhost:8080/"
        },
        "id": "Hfso9-_TvvyE",
        "outputId": "cd506764-b94e-4adb-e0a5-7176b976bcb0"
      },
      "execution_count": null,
      "outputs": [
        {
          "output_type": "stream",
          "name": "stdout",
          "text": [
            "Leitura dos dados:\n",
            "Digite o código do produto: 123\n",
            " Digite o preço: 12.2\n",
            "Digite o código do produto: 124\n",
            " Digite o preço: 12.4\n",
            "Digite o código do produto: 125\n",
            " Digite o preço: 10.6\n",
            "Digite o código do produto: 124\n",
            "  O produto 124 já esta no dicionario \n",
            "Digite o código do produto: \n",
            "Fim da Leitura dos dados\n",
            "\n",
            "  produto 123 custa R$   12.20\n",
            "  produto 124 custa R$   12.40\n",
            "  produto 125 custa R$   10.60\n",
            "\n",
            "Fim do Programa\n"
          ]
        }
      ]
    },
    {
      "cell_type": "markdown",
      "source": [
        "CAPITULO 10, EXERCICIO RESOLVIDO 10.03"
      ],
      "metadata": {
        "id": "yGdk85AP1CKS"
      }
    },
    {
      "cell_type": "code",
      "source": [
        "''' Enunciado\n",
        "Escreva um programa que leia os dados dos Estados brasileiros: Sigla, Nome, Capital e PIB.\n",
        "A Sigla deve ser usada como chave para o dicionario e ovalor deve ser uma tupla formada com\n",
        "(Nome, Capital, PIB). A leitura termina quando uma string vazia for fornecida para a Sigla.\n",
        "Exibir os dados na tela'''\n",
        "import argparse\n",
        "\n",
        "parser = argparse.ArgumentParser()\n",
        "parser.add_argument(\"--name\", type=str)\n",
        "\n",
        "UF = {}\n",
        "print('Leitura dos dados: ')\n",
        "\n",
        "while True:\n",
        "  sigla = input('Digite a sigla: ')\n",
        "  if sigla == '':\n",
        "    break\n",
        "  elif sigla in UF:\n",
        "    print(f' A sigla {sigla} já está no cadastro')\n",
        "    continue\n",
        "\n",
        "  estado = input('Digite o nome do Estado: ')\n",
        "  capital = input('Digite a Capital: ')\n",
        "  pib = float(input('Digite o PIB: '))\n",
        "  UF[sigla] = (estado, capital, pib)\n",
        "\n",
        "print('   {:15} {:15} {:>10}'.format(\n",
        "    'Estado', 'Capital', 'PIB (R$ bi)'))\n",
        "\n",
        "for sigla, dados in UF.items():\n",
        "  print('({}) {:15} {:15} {:>10.1f}'.format(\n",
        "        sigla,\n",
        "        dados[0],\n",
        "        dados[1],\n",
        "        dados[2])\n",
        "        )\n",
        "\n",
        "\n",
        "print('Fim do programa.')"
      ],
      "metadata": {
        "colab": {
          "base_uri": "https://localhost:8080/"
        },
        "id": "AKKd87C6IriC",
        "outputId": "5addfbe5-4f3f-4f40-fab0-9a386d89352e"
      },
      "execution_count": null,
      "outputs": [
        {
          "output_type": "stream",
          "name": "stdout",
          "text": [
            "Leitura dos dados: \n",
            "Digite a sigla: SP\n",
            "Digite o nome do Estado: São Paulo\n",
            "Digite a Capital: São Paulo\n",
            "Digite o PIB: 23440\n",
            "Digite a sigla: PA\n",
            "Digite o nome do Estado: Pará\n",
            "Digite a Capital: Belem\n",
            "Digite o PIB: 234\n",
            "Digite a sigla: \n",
            "   Estado          Capital         PIB (R$ bi)\n",
            "(SP) São Paulo       São Paulo          23440.0\n",
            "(PA) Pará            Belem                234.0\n",
            "Fim do programa.\n"
          ]
        }
      ]
    },
    {
      "cell_type": "code",
      "source": [
        "cores = {1: 'azul', 2: 'verde', 3: 'amarelo', 4: 'vermelho'}\n",
        "for n, cor in cores.items(): print(n, cor)"
      ],
      "metadata": {
        "colab": {
          "base_uri": "https://localhost:8080/"
        },
        "id": "HjQwlNAgyiZs",
        "outputId": "9f4701e5-42d4-4053-fe23-c8a9f80277c1"
      },
      "execution_count": null,
      "outputs": [
        {
          "output_type": "stream",
          "name": "stdout",
          "text": [
            "1 azul\n",
            "2 verde\n",
            "3 amarelo\n",
            "4 vermelho\n"
          ]
        }
      ]
    },
    {
      "cell_type": "code",
      "source": [
        "type(n)"
      ],
      "metadata": {
        "colab": {
          "base_uri": "https://localhost:8080/"
        },
        "id": "WQGdFgD7zAjT",
        "outputId": "48471b93-517f-421b-bcf7-2c946f6c8a90"
      },
      "execution_count": null,
      "outputs": [
        {
          "output_type": "execute_result",
          "data": {
            "text/plain": [
              "int"
            ]
          },
          "metadata": {},
          "execution_count": 5
        }
      ]
    },
    {
      "cell_type": "code",
      "source": [
        "pib_estadual = {\n",
        "    'AC': ('Acre','Rio Branco',21.4),\n",
        "    'CE': ('Ceará','Fortaleza',194.9),\n",
        "    'SP': ('São Paulo','São Paulo',2719.8)\n",
        "    # considere inclusos os demais estados\n",
        "}"
      ],
      "metadata": {
        "id": "-fZ5zxO7zQzr"
      },
      "execution_count": null,
      "outputs": []
    },
    {
      "cell_type": "code",
      "source": [
        "pib_estadual.get('SP')[2]\n"
      ],
      "metadata": {
        "colab": {
          "base_uri": "https://localhost:8080/"
        },
        "id": "MjrlYuxszZlT",
        "outputId": "f6c2b8be-5ce5-4c73-83ef-eea1c4152ec6"
      },
      "execution_count": null,
      "outputs": [
        {
          "output_type": "execute_result",
          "data": {
            "text/plain": [
              "2719.8"
            ]
          },
          "metadata": {},
          "execution_count": 11
        }
      ]
    },
    {
      "cell_type": "code",
      "source": [
        "NUM = 'ALO MUNDO'\n",
        "print = read(NUM)"
      ],
      "metadata": {
        "colab": {
          "base_uri": "https://localhost:8080/",
          "height": 159
        },
        "id": "xzP9nggx6lU7",
        "outputId": "a97447f3-1a71-4281-920e-4d199d99d135"
      },
      "execution_count": null,
      "outputs": [
        {
          "output_type": "error",
          "ename": "NameError",
          "evalue": "name 'read' is not defined",
          "traceback": [
            "\u001b[0;31m---------------------------------------------------------------------------\u001b[0m",
            "\u001b[0;31mNameError\u001b[0m                                 Traceback (most recent call last)",
            "\u001b[0;32m/tmp/ipython-input-2155307958.py\u001b[0m in \u001b[0;36m<cell line: 0>\u001b[0;34m()\u001b[0m\n\u001b[1;32m      1\u001b[0m \u001b[0mNUM\u001b[0m \u001b[0;34m=\u001b[0m \u001b[0;34m'ALO MUNDO'\u001b[0m\u001b[0;34m\u001b[0m\u001b[0;34m\u001b[0m\u001b[0m\n\u001b[0;32m----> 2\u001b[0;31m \u001b[0mprint\u001b[0m \u001b[0;34m=\u001b[0m \u001b[0mread\u001b[0m\u001b[0;34m(\u001b[0m\u001b[0mNUM\u001b[0m\u001b[0;34m)\u001b[0m\u001b[0;34m\u001b[0m\u001b[0;34m\u001b[0m\u001b[0m\n\u001b[0m",
            "\u001b[0;31mNameError\u001b[0m: name 'read' is not defined"
          ]
        }
      ]
    }
  ]
}
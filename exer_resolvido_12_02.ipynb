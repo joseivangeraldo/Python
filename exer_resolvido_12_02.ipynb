{
 "cells": [
  {
   "cell_type": "code",
   "execution_count": 10,
   "id": "962ef1c6-113e-4db1-9d44-90c0a0ea4bfa",
   "metadata": {},
   "outputs": [
    {
     "name": "stdin",
     "output_type": "stream",
     "text": [
      "Digite o numero A : 90\n",
      "Digite o numero B : 45\n"
     ]
    },
    {
     "name": "stdout",
     "output_type": "stream",
     "text": [
      "O valor 90 é divisivel por 45\n"
     ]
    }
   ],
   "source": [
    "'''Escreva uma função que receba dois numeros inteiros A e B como paramentros de entrada e\n",
    "retorne true se A for divisivel por B e false caso contrario.\n",
    "Escreva o programa principal para testar a função'''\n",
    "\n",
    "def func(a, b):\n",
    "    return True if a % b == 0 else False    \n",
    "\n",
    "##Funçao main\n",
    "A = int(input('Digite o numero A :'))\n",
    "B = int(input('Digite o numero B :'))\n",
    "if func(A, B):\n",
    "    print(f'O valor {A} é divisivel por {B}')\n",
    "else:\n",
    "    print(f'O valor {A} não é divisivel por {B}')\n"
   ]
  }
 ],
 "metadata": {
  "kernelspec": {
   "display_name": "Python 3 (ipykernel)",
   "language": "python",
   "name": "python3"
  },
  "language_info": {
   "codemirror_mode": {
    "name": "ipython",
    "version": 3
   },
   "file_extension": ".py",
   "mimetype": "text/x-python",
   "name": "python",
   "nbconvert_exporter": "python",
   "pygments_lexer": "ipython3",
   "version": "3.12.1"
  }
 },
 "nbformat": 4,
 "nbformat_minor": 5
}

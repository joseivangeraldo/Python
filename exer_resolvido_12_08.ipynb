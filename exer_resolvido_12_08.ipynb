{
 "cells": [
  {
   "cell_type": "code",
   "execution_count": 2,
   "id": "f8cb2b5b-5278-4ada-bc4b-5f9975ca7635",
   "metadata": {},
   "outputs": [
    {
     "name": "stdout",
     "output_type": "stream",
     "text": [
      "Forneça os preços para uma lista . Zero para terminar\n"
     ]
    },
    {
     "name": "stdin",
     "output_type": "stream",
     "text": [
      " Digite um  valor real:  50\n",
      " Digite um  valor real:  120\n",
      " Digite um  valor real:  20\n",
      " Digite um  valor real:  100\n",
      " Digite um  valor real:  200\n",
      " Digite um  valor real:  39.8\n",
      " Digite um  valor real:  45.3\n",
      " Digite um  valor real:  17.29\n",
      " Digite um  valor real:  0\n"
     ]
    },
    {
     "name": "stdout",
     "output_type": "stream",
     "text": [
      "Os preços são estes\n",
      "[50.0, 120.0, 20.0, 100.0, 200.0, 39.8, 45.3, 17.29]\n"
     ]
    }
   ],
   "source": [
    "'''\n",
    "considere que voc~e deve aplicar um aumento percentual a todo os preços que estão em uma loja.\n",
    "Escreva um programaque leia esta lista do teclado.Os valores devem ser lidos enquanto não for\n",
    "digitado zero. N asequencia leia a porcentagemdo aumento.\n",
    "Em seguida usando list comprehension, faça a aplicação deste aumento e mostre todos os valores na tela\n",
    "'''\n",
    "Precos = []\n",
    "print('Forneça os preços para uma lista . Zero para terminar')\n",
    "preco = float(input(' Digite um  valor real: '))\n",
    "while preco != 0:\n",
    "    Precos.append(preco)\n",
    "    preco = float(input(' Digite um  valor real: '))\n",
    "print('Os preços são estes')\n",
    "print(Precos)\n",
    "\n"
   ]
  },
  {
   "cell_type": "code",
   "execution_count": 3,
   "id": "03d82dc2-848f-4273-9fb6-01a42d4f2318",
   "metadata": {},
   "outputs": [
    {
     "name": "stdin",
     "output_type": "stream",
     "text": [
      "Digite a porcentagem de aumento;  10\n"
     ]
    },
    {
     "name": "stdout",
     "output_type": "stream",
     "text": [
      "55.00\n",
      "132.00\n",
      "22.00\n",
      "110.00\n",
      "220.00\n",
      "43.78\n",
      "49.83\n",
      "19.02\n",
      "Fim do Programa\n"
     ]
    }
   ],
   "source": [
    "##usando o list comprehension\n",
    "aumento = float(input('Digite a porcentagem de aumento; '))\n",
    "NovosPrecos = [valor * (1 + aumento/100) for valor in Precos]\n",
    "for valor in NovosPrecos:\n",
    "    print(f'{valor:.2f}')\n",
    "print('Fim do Programa')\n"
   ]
  },
  {
   "cell_type": "code",
   "execution_count": 8,
   "id": "39bd04b1-b5b7-4d1a-9ed5-69cd123f6528",
   "metadata": {},
   "outputs": [],
   "source": [
    "A = [1, 2, 3, 4]"
   ]
  },
  {
   "cell_type": "code",
   "execution_count": 20,
   "id": "a0a75594-c16e-4264-9203-00046f7ddabb",
   "metadata": {},
   "outputs": [],
   "source": [
    "B = [ e*e for e in A ]\n",
    "\n"
   ]
  },
  {
   "cell_type": "code",
   "execution_count": 26,
   "id": "b4630061-ed6f-43a6-b252-085cbe05f39b",
   "metadata": {},
   "outputs": [
    {
     "data": {
      "text/plain": [
       "[1, 4, 9, 16]"
      ]
     },
     "execution_count": 26,
     "metadata": {},
     "output_type": "execute_result"
    }
   ],
   "source": [
    "B"
   ]
  },
  {
   "cell_type": "code",
   "execution_count": 27,
   "id": "b85e2fe7-b69d-4628-9bc0-d6bc37fc87ef",
   "metadata": {},
   "outputs": [],
   "source": [
    "B = [ A[i] for i in range(4) ]"
   ]
  },
  {
   "cell_type": "code",
   "execution_count": 22,
   "id": "40e80d1d-8778-47bc-988c-1b13ee251fb4",
   "metadata": {},
   "outputs": [
    {
     "data": {
      "text/plain": [
       "[1, 4, 9, 16]"
      ]
     },
     "execution_count": 22,
     "metadata": {},
     "output_type": "execute_result"
    }
   ],
   "source": [
    "B"
   ]
  },
  {
   "cell_type": "code",
   "execution_count": 24,
   "id": "84700a5e-40fc-437e-8541-f881a8d8b187",
   "metadata": {},
   "outputs": [
    {
     "ename": "SyntaxError",
     "evalue": "invalid syntax (3613992394.py, line 1)",
     "output_type": "error",
     "traceback": [
      "  \u001b[36mCell\u001b[39m\u001b[36m \u001b[39m\u001b[32mIn[24]\u001b[39m\u001b[32m, line 1\u001b[39m\n\u001b[31m    \u001b[39m\u001b[31mB = [ for e in A: e*e ]\u001b[39m\n          ^\n\u001b[31mSyntaxError\u001b[39m\u001b[31m:\u001b[39m invalid syntax\n"
     ]
    }
   ],
   "source": [
    "\n",
    "B = [ for e in A: e*e ]"
   ]
  },
  {
   "cell_type": "code",
   "execution_count": 25,
   "id": "2e42164f-9901-4f22-95c6-b36f2c4815b5",
   "metadata": {},
   "outputs": [
    {
     "data": {
      "text/plain": [
       "[1, 4, 9, 16]"
      ]
     },
     "execution_count": 25,
     "metadata": {},
     "output_type": "execute_result"
    }
   ],
   "source": [
    "B"
   ]
  },
  {
   "cell_type": "code",
   "execution_count": 17,
   "id": "9fec89aa-c66a-4d9f-a7bf-ff503526303c",
   "metadata": {},
   "outputs": [],
   "source": [
    "B = ( e*e for e in A )"
   ]
  },
  {
   "cell_type": "code",
   "execution_count": null,
   "id": "88386331-7564-4b70-b45c-ddfd492d6800",
   "metadata": {},
   "outputs": [],
   "source": []
  }
 ],
 "metadata": {
  "kernelspec": {
   "display_name": "Python 3 (ipykernel)",
   "language": "python",
   "name": "python3"
  },
  "language_info": {
   "codemirror_mode": {
    "name": "ipython",
    "version": 3
   },
   "file_extension": ".py",
   "mimetype": "text/x-python",
   "name": "python",
   "nbconvert_exporter": "python",
   "pygments_lexer": "ipython3",
   "version": "3.12.1"
  }
 },
 "nbformat": 4,
 "nbformat_minor": 5
}

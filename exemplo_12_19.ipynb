{
 "cells": [
  {
   "cell_type": "code",
   "execution_count": 2,
   "id": "cb7f3d4b-3132-418e-a3e1-1277e9ab21c9",
   "metadata": {},
   "outputs": [
    {
     "data": {
      "text/plain": [
       "<map at 0x7049343316c0>"
      ]
     },
     "execution_count": 2,
     "metadata": {},
     "output_type": "execute_result"
    }
   ],
   "source": [
    "L = [8, 5, 3, 9, 7, 2]\n",
    "def quadrado(a):\n",
    "    return a ** 2\n",
    "\n",
    "L2 = map(quadrado, L)\n",
    "L2"
   ]
  },
  {
   "cell_type": "code",
   "execution_count": 3,
   "id": "c29a7bb6-1b99-4684-910d-387ca86a30ea",
   "metadata": {},
   "outputs": [
    {
     "data": {
      "text/plain": [
       "[64, 25, 9, 81, 49, 4]"
      ]
     },
     "execution_count": 3,
     "metadata": {},
     "output_type": "execute_result"
    }
   ],
   "source": [
    "L2 = list(map(quadrado, L))\n",
    "L2"
   ]
  },
  {
   "cell_type": "code",
   "execution_count": 4,
   "id": "c3acdf9f-18f7-433a-babf-28d0ee29b0e9",
   "metadata": {},
   "outputs": [
    {
     "name": "stdout",
     "output_type": "stream",
     "text": [
      "64\n",
      "25\n",
      "9\n",
      "81\n",
      "49\n",
      "4\n"
     ]
    }
   ],
   "source": [
    "for x in L2:\n",
    "    print(x)"
   ]
  },
  {
   "cell_type": "code",
   "execution_count": 6,
   "id": "74d73cb6-913d-4db4-8128-9d781c6c9e40",
   "metadata": {},
   "outputs": [
    {
     "data": {
      "text/plain": [
       "[512, 125, 27, 729, 343, 8]"
      ]
     },
     "execution_count": 6,
     "metadata": {},
     "output_type": "execute_result"
    }
   ],
   "source": [
    "##3pode-se fazer um lambda para interaragir com o map\n",
    "L3 = list(map((lambda x: x **3), L))\n",
    "L3\n"
   ]
  },
  {
   "cell_type": "code",
   "execution_count": null,
   "id": "5da7c077-39da-48bf-9256-a70fac0b505c",
   "metadata": {},
   "outputs": [],
   "source": []
  }
 ],
 "metadata": {
  "kernelspec": {
   "display_name": "Python 3 (ipykernel)",
   "language": "python",
   "name": "python3"
  },
  "language_info": {
   "codemirror_mode": {
    "name": "ipython",
    "version": 3
   },
   "file_extension": ".py",
   "mimetype": "text/x-python",
   "name": "python",
   "nbconvert_exporter": "python",
   "pygments_lexer": "ipython3",
   "version": "3.11.4"
  }
 },
 "nbformat": 4,
 "nbformat_minor": 5
}

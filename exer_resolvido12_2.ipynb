{
 "cells": [
  {
   "cell_type": "code",
   "execution_count": 16,
   "id": "01cf1cc5-b1ae-4051-931f-c3191b44746f",
   "metadata": {},
   "outputs": [
    {
     "name": "stdout",
     "output_type": "stream",
     "text": [
      "PAR\n"
     ]
    }
   ],
   "source": [
    "'''Escreva uma função que receba um numero inteiro como parametro de entrada,\n",
    " e retorna o texto \"PAR\" ou \"IMPAR\", Usea em um programa principal'''\n",
    "\n",
    "def ParImpar(num):\n",
    "    if num%2 == 0:\n",
    "        return \"PAR\"\n",
    "    else:\n",
    "        return \"IMPAR\"\n",
    "print(ParImpar(34))\n",
    "    "
   ]
  },
  {
   "cell_type": "code",
   "execution_count": 17,
   "id": "ecdb87a3-b789-4cf8-9aeb-9e7f96e706f1",
   "metadata": {},
   "outputs": [
    {
     "name": "stdout",
     "output_type": "stream",
     "text": [
      "PAR\n"
     ]
    }
   ],
   "source": [
    "print(ParImpar(2343))"
   ]
  },
  {
   "cell_type": "code",
   "execution_count": 9,
   "id": "aa3d36ee-a1b0-41a4-b457-249b8c4e11e4",
   "metadata": {},
   "outputs": [
    {
     "data": {
      "text/plain": [
       "0.0"
      ]
     },
     "execution_count": 9,
     "metadata": {},
     "output_type": "execute_result"
    }
   ],
   "source": [
    "4/4-1"
   ]
  },
  {
   "cell_type": "code",
   "execution_count": 10,
   "id": "ecee5b46-9a45-461a-8934-7088b7505b38",
   "metadata": {},
   "outputs": [
    {
     "data": {
      "text/plain": [
       "0.0"
      ]
     },
     "execution_count": 10,
     "metadata": {},
     "output_type": "execute_result"
    }
   ],
   "source": [
    "3/3-1\n"
   ]
  },
  {
   "cell_type": "code",
   "execution_count": 11,
   "id": "8354ce0d-3a9b-411f-8f68-3ddf73bdeb29",
   "metadata": {},
   "outputs": [
    {
     "data": {
      "text/plain": [
       "2.0"
      ]
     },
     "execution_count": 11,
     "metadata": {},
     "output_type": "execute_result"
    }
   ],
   "source": [
    "4/4+1"
   ]
  },
  {
   "cell_type": "code",
   "execution_count": 12,
   "id": "442651ca-869e-4f71-b9e7-53d794fcecda",
   "metadata": {},
   "outputs": [
    {
     "data": {
      "text/plain": [
       "2.0"
      ]
     },
     "execution_count": 12,
     "metadata": {},
     "output_type": "execute_result"
    }
   ],
   "source": [
    "3/3+1"
   ]
  },
  {
   "cell_type": "code",
   "execution_count": 13,
   "id": "e64d7634-3be2-4d9d-bcc5-1c8835e57d92",
   "metadata": {},
   "outputs": [
    {
     "data": {
      "text/plain": [
       "1.5"
      ]
     },
     "execution_count": 13,
     "metadata": {},
     "output_type": "execute_result"
    }
   ],
   "source": [
    "3/(3-1)"
   ]
  },
  {
   "cell_type": "code",
   "execution_count": null,
   "id": "786ea34d-4738-4508-9198-71627888bdab",
   "metadata": {},
   "outputs": [],
   "source": []
  }
 ],
 "metadata": {
  "kernelspec": {
   "display_name": "Python 3 (ipykernel)",
   "language": "python",
   "name": "python3"
  },
  "language_info": {
   "codemirror_mode": {
    "name": "ipython",
    "version": 3
   },
   "file_extension": ".py",
   "mimetype": "text/x-python",
   "name": "python",
   "nbconvert_exporter": "python",
   "pygments_lexer": "ipython3",
   "version": "3.12.1"
  }
 },
 "nbformat": 4,
 "nbformat_minor": 5
}

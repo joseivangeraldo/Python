{
 "cells": [
  {
   "cell_type": "code",
   "execution_count": 10,
   "id": "98090c74-22f1-4fce-b75b-1b7b6863c4da",
   "metadata": {},
   "outputs": [],
   "source": [
    "#Recebe o parametro de 5 digitos de[10000, 99999] que representa codigo de produtos vendidos em uma loja\n",
    "# Dve calcular e retornar o digito verificador. Utilizando a regra a seguir.\n",
    "#Escreva o programa para testar a função.\n",
    "\n",
    "#É multiplicado por um peso começando em 2 e terminando em 6. São somados e calculado\n",
    "# o resto da divisão por7\n",
    "#testes do codigo : 31483\n",
    "cod = 31483\n",
    "s = str(cod) ## tranforma em string\n",
    "\n"
   ]
  },
  {
   "cell_type": "code",
   "execution_count": 11,
   "id": "219851e1-678e-4bdd-a597-4fc279da80cc",
   "metadata": {},
   "outputs": [
    {
     "data": {
      "text/plain": [
       "'31483'"
      ]
     },
     "execution_count": 11,
     "metadata": {},
     "output_type": "execute_result"
    }
   ],
   "source": [
    "s"
   ]
  },
  {
   "cell_type": "code",
   "execution_count": 12,
   "id": "a5dcef11-6d96-4a9f-ac08-5bd1a4007f55",
   "metadata": {},
   "outputs": [
    {
     "name": "stdout",
     "output_type": "stream",
     "text": [
      "3\n",
      "1\n",
      "4\n",
      "8\n",
      "3\n"
     ]
    }
   ],
   "source": [
    "for a in s:\n",
    "    print(a)"
   ]
  },
  {
   "cell_type": "code",
   "execution_count": 13,
   "id": "03c91066-203c-4ed1-b046-c4088b6f1cc3",
   "metadata": {},
   "outputs": [],
   "source": [
    "dv = 0  ## digito verificador\n",
    "peso = 2\n",
    "for a in s:\n",
    "    dv += peso * int(a)\n",
    "    peso += 1"
   ]
  },
  {
   "cell_type": "code",
   "execution_count": 14,
   "id": "fee88444-9ec8-47a0-af32-950664c03b74",
   "metadata": {},
   "outputs": [
    {
     "data": {
      "text/plain": [
       "83"
      ]
     },
     "execution_count": 14,
     "metadata": {},
     "output_type": "execute_result"
    }
   ],
   "source": [
    "dv"
   ]
  },
  {
   "cell_type": "code",
   "execution_count": 15,
   "id": "2a80b1aa-8556-4093-85e7-26dc9c9655e6",
   "metadata": {},
   "outputs": [
    {
     "data": {
      "text/plain": [
       "6"
      ]
     },
     "execution_count": 15,
     "metadata": {},
     "output_type": "execute_result"
    }
   ],
   "source": [
    "dv % 7"
   ]
  },
  {
   "cell_type": "code",
   "execution_count": 16,
   "id": "85e5c359-e731-470c-830c-081fe8d407bc",
   "metadata": {},
   "outputs": [],
   "source": [
    "#Apos o interativo vamos fazer a função\n",
    "def CalcDigito(cod):\n",
    "    s = str(cod)\n",
    "    dv = 0  ## digito verificador\n",
    "    peso = 2\n",
    "    for a in s:\n",
    "        dv += peso * int(a)\n",
    "        peso += 1\n",
    "    return dv % 7"
   ]
  },
  {
   "cell_type": "code",
   "execution_count": 21,
   "id": "de2ce7a5-9e1c-4555-a71c-cd8b98bd835f",
   "metadata": {},
   "outputs": [
    {
     "name": "stdin",
     "output_type": "stream",
     "text": [
      "Digite o codigo:  545\n"
     ]
    },
    {
     "name": "stdout",
     "output_type": "stream",
     "text": [
      "Codigo: 545 -> digito: 0\n"
     ]
    },
    {
     "name": "stdin",
     "output_type": "stream",
     "text": [
      "Digite o codigo:  0\n"
     ]
    },
    {
     "name": "stdout",
     "output_type": "stream",
     "text": [
      "Fim do Código.\n"
     ]
    }
   ],
   "source": [
    "codigo = int(input('Digite o codigo: '))\n",
    "while codigo > 0:\n",
    "    digito = CalcDigito(codigo)\n",
    "    print(f'Codigo: {codigo} -> digito: {digito}')\n",
    "    codigo = int(input('Digite o codigo: '))\n",
    "\n",
    "print('Fim do Código.')"
   ]
  },
  {
   "cell_type": "code",
   "execution_count": null,
   "id": "b840a692-ce13-4731-9b0f-f47ed9bf4d37",
   "metadata": {},
   "outputs": [],
   "source": []
  }
 ],
 "metadata": {
  "kernelspec": {
   "display_name": "Python 3 (ipykernel)",
   "language": "python",
   "name": "python3"
  },
  "language_info": {
   "codemirror_mode": {
    "name": "ipython",
    "version": 3
   },
   "file_extension": ".py",
   "mimetype": "text/x-python",
   "name": "python",
   "nbconvert_exporter": "python",
   "pygments_lexer": "ipython3",
   "version": "3.12.1"
  }
 },
 "nbformat": 4,
 "nbformat_minor": 5
}
